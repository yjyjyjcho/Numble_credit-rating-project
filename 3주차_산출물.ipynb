{
  "nbformat": 4,
  "nbformat_minor": 0,
  "metadata": {
    "colab": {
      "name": "3주차 산출물.ipynb",
      "provenance": [],
      "collapsed_sections": [],
      "mount_file_id": "1xMi_CkbwGL-l13-uwce9HkOk8mfCE5kd",
      "authorship_tag": "ABX9TyOJ8UZvv4CqcFozvWm8G3qy",
      "include_colab_link": true
    },
    "kernelspec": {
      "name": "python3",
      "display_name": "Python 3"
    },
    "language_info": {
      "name": "python"
    }
  },
  "cells": [
    {
      "cell_type": "markdown",
      "metadata": {
        "id": "view-in-github",
        "colab_type": "text"
      },
      "source": [
        "<a href=\"https://colab.research.google.com/github/yjyjyjcho/Numble_credit-rating-project/blob/main/3%EC%A3%BC%EC%B0%A8_%EC%82%B0%EC%B6%9C%EB%AC%BC.ipynb\" target=\"_parent\"><img src=\"https://colab.research.google.com/assets/colab-badge.svg\" alt=\"Open In Colab\"/></a>"
      ]
    },
    {
      "cell_type": "code",
      "execution_count": 35,
      "metadata": {
        "id": "nSq12udCiogZ"
      },
      "outputs": [],
      "source": [
        "import numpy as np\n",
        "import pandas as pd\n",
        "import matplotlib.pyplot as plt\n",
        "\n",
        "path_macro_oil = '/content/drive/MyDrive/NUMBLE_2022_기업신용평가_2팀/주간 산출물/3주차/macro/원유+가격2022-08-18.csv' #두바이유\n",
        "path_macro_rock = '/content/drive/MyDrive/NUMBLE_2022_기업신용평가_2팀/주간 산출물/3주차/macro/유연탄+가격2022-08-18.csv' #유연탄\n",
        "path_macro_iron = '/content/drive/MyDrive/NUMBLE_2022_기업신용평가_2팀/주간 산출물/3주차/macro/철광석+가격2022-08-18.csv' #철광석\n",
        "path_stock = '/content/drive/MyDrive/NUMBLE_2022_기업신용평가_2팀/주간 산출물/3주차/stock/stock_price_1M.csv'"
      ]
    },
    {
      "cell_type": "code",
      "source": [
        "oil = pd.read_csv(path_macro_oil)\n",
        "rock = pd.read_csv(path_macro_rock)\n",
        "iron = pd.read_csv(path_macro_iron)\n",
        "stock = pd.read_csv(path_stock)"
      ],
      "metadata": {
        "id": "VgLemwCpjIjv"
      },
      "execution_count": 36,
      "outputs": []
    },
    {
      "cell_type": "code",
      "source": [
        "oil = oil[['date', 'price', 'delta', 'delta_ratio']]\n",
        "rock = rock[['date', 'price', 'delta', 'delta_ratio']]\n",
        "iron = iron[['date', 'price', 'delta', 'delta_ratio']]\n"
      ],
      "metadata": {
        "id": "gRTvBxwCj7mN"
      },
      "execution_count": 37,
      "outputs": []
    },
    {
      "cell_type": "code",
      "source": [
        "# oil = oil.drop([156, 157, 158, 159, 160, 161, 162], axis = 0)\n",
        "# oil = oil.drop([154, 155], axis = 0)\n",
        "# iron = iron.drop([160, 161], axis = 0)"
      ],
      "metadata": {
        "id": "VffziC3dlT7K"
      },
      "execution_count": 49,
      "outputs": []
    },
    {
      "cell_type": "code",
      "source": [
        "stock.columns\n",
        "\n",
        "##시공사\n",
        "# 'daewoo' = 대우건설\n",
        "# 'hdc' = hdc\n",
        "\n",
        "##건설기계\n",
        "# 'hyundai_di' = 현대대우인프라코어\n",
        "\n",
        "##시행사\n",
        "# 'skd_d' = sk 디앤디\n",
        "\n",
        "##가전제품\n",
        "# 'haatz' = 하츠\n",
        "# 'livart' = 리바트"
      ],
      "metadata": {
        "colab": {
          "base_uri": "https://localhost:8080/"
        },
        "id": "XHKJuf46ku6g",
        "outputId": "c973f0bd-dd29-483f-ac43-90ec745a9b4f"
      },
      "execution_count": 54,
      "outputs": [
        {
          "output_type": "execute_result",
          "data": {
            "text/plain": [
              "Index(['date', 'daewoo', 'haatz', 'hdc', 'hyundai_di', 'livart', 'skd_d',\n",
              "       'avg'],\n",
              "      dtype='object')"
            ]
          },
          "metadata": {},
          "execution_count": 54
        }
      ]
    },
    {
      "cell_type": "markdown",
      "source": [
        "##두바이유 EDA"
      ],
      "metadata": {
        "id": "RoTif_i6IWGo"
      }
    },
    {
      "cell_type": "code",
      "source": [
        "oil.shape"
      ],
      "metadata": {
        "colab": {
          "base_uri": "https://localhost:8080/"
        },
        "id": "2PJN5dkuowQW",
        "outputId": "d9239c4c-b4a5-4fd6-8868-c22617eb5c9d"
      },
      "execution_count": 65,
      "outputs": [
        {
          "output_type": "execute_result",
          "data": {
            "text/plain": [
              "(154, 4)"
            ]
          },
          "metadata": {},
          "execution_count": 65
        }
      ]
    },
    {
      "cell_type": "code",
      "source": [
        "oil.info()"
      ],
      "metadata": {
        "colab": {
          "base_uri": "https://localhost:8080/"
        },
        "id": "yB0bmRrIj9f9",
        "outputId": "f4c1533d-2817-4575-ff58-1d706b1246f7"
      },
      "execution_count": 55,
      "outputs": [
        {
          "output_type": "stream",
          "name": "stdout",
          "text": [
            "<class 'pandas.core.frame.DataFrame'>\n",
            "Int64Index: 154 entries, 0 to 153\n",
            "Data columns (total 4 columns):\n",
            " #   Column       Non-Null Count  Dtype  \n",
            "---  ------       --------------  -----  \n",
            " 0   date         154 non-null    object \n",
            " 1   price        154 non-null    float64\n",
            " 2   delta        154 non-null    float64\n",
            " 3   delta_ratio  154 non-null    float64\n",
            "dtypes: float64(3), object(1)\n",
            "memory usage: 6.0+ KB\n"
          ]
        }
      ]
    },
    {
      "cell_type": "code",
      "source": [
        "oil.describe()"
      ],
      "metadata": {
        "colab": {
          "base_uri": "https://localhost:8080/",
          "height": 300
        },
        "id": "VjO5wmAKkiiw",
        "outputId": "8c1e94d6-3c9a-46a0-ae02-b05a108dff79"
      },
      "execution_count": 63,
      "outputs": [
        {
          "output_type": "execute_result",
          "data": {
            "text/plain": [
              "            price       delta  delta_ratio\n",
              "count  154.000000  154.000000   154.000000\n",
              "mean    64.660260    0.277143     0.563961\n",
              "std     21.917556    3.442355     6.893007\n",
              "min     18.170000  -14.650000   -30.160000\n",
              "25%     49.405000   -1.055000    -2.045000\n",
              "50%     63.495000    0.275000     0.500000\n",
              "75%     73.790000    2.087500     3.010000\n",
              "max    118.940000   13.000000    42.650000"
            ],
            "text/html": [
              "\n",
              "  <div id=\"df-62268e6c-2351-4b7e-a28e-de909b4d9e6a\">\n",
              "    <div class=\"colab-df-container\">\n",
              "      <div>\n",
              "<style scoped>\n",
              "    .dataframe tbody tr th:only-of-type {\n",
              "        vertical-align: middle;\n",
              "    }\n",
              "\n",
              "    .dataframe tbody tr th {\n",
              "        vertical-align: top;\n",
              "    }\n",
              "\n",
              "    .dataframe thead th {\n",
              "        text-align: right;\n",
              "    }\n",
              "</style>\n",
              "<table border=\"1\" class=\"dataframe\">\n",
              "  <thead>\n",
              "    <tr style=\"text-align: right;\">\n",
              "      <th></th>\n",
              "      <th>price</th>\n",
              "      <th>delta</th>\n",
              "      <th>delta_ratio</th>\n",
              "    </tr>\n",
              "  </thead>\n",
              "  <tbody>\n",
              "    <tr>\n",
              "      <th>count</th>\n",
              "      <td>154.000000</td>\n",
              "      <td>154.000000</td>\n",
              "      <td>154.000000</td>\n",
              "    </tr>\n",
              "    <tr>\n",
              "      <th>mean</th>\n",
              "      <td>64.660260</td>\n",
              "      <td>0.277143</td>\n",
              "      <td>0.563961</td>\n",
              "    </tr>\n",
              "    <tr>\n",
              "      <th>std</th>\n",
              "      <td>21.917556</td>\n",
              "      <td>3.442355</td>\n",
              "      <td>6.893007</td>\n",
              "    </tr>\n",
              "    <tr>\n",
              "      <th>min</th>\n",
              "      <td>18.170000</td>\n",
              "      <td>-14.650000</td>\n",
              "      <td>-30.160000</td>\n",
              "    </tr>\n",
              "    <tr>\n",
              "      <th>25%</th>\n",
              "      <td>49.405000</td>\n",
              "      <td>-1.055000</td>\n",
              "      <td>-2.045000</td>\n",
              "    </tr>\n",
              "    <tr>\n",
              "      <th>50%</th>\n",
              "      <td>63.495000</td>\n",
              "      <td>0.275000</td>\n",
              "      <td>0.500000</td>\n",
              "    </tr>\n",
              "    <tr>\n",
              "      <th>75%</th>\n",
              "      <td>73.790000</td>\n",
              "      <td>2.087500</td>\n",
              "      <td>3.010000</td>\n",
              "    </tr>\n",
              "    <tr>\n",
              "      <th>max</th>\n",
              "      <td>118.940000</td>\n",
              "      <td>13.000000</td>\n",
              "      <td>42.650000</td>\n",
              "    </tr>\n",
              "  </tbody>\n",
              "</table>\n",
              "</div>\n",
              "      <button class=\"colab-df-convert\" onclick=\"convertToInteractive('df-62268e6c-2351-4b7e-a28e-de909b4d9e6a')\"\n",
              "              title=\"Convert this dataframe to an interactive table.\"\n",
              "              style=\"display:none;\">\n",
              "        \n",
              "  <svg xmlns=\"http://www.w3.org/2000/svg\" height=\"24px\"viewBox=\"0 0 24 24\"\n",
              "       width=\"24px\">\n",
              "    <path d=\"M0 0h24v24H0V0z\" fill=\"none\"/>\n",
              "    <path d=\"M18.56 5.44l.94 2.06.94-2.06 2.06-.94-2.06-.94-.94-2.06-.94 2.06-2.06.94zm-11 1L8.5 8.5l.94-2.06 2.06-.94-2.06-.94L8.5 2.5l-.94 2.06-2.06.94zm10 10l.94 2.06.94-2.06 2.06-.94-2.06-.94-.94-2.06-.94 2.06-2.06.94z\"/><path d=\"M17.41 7.96l-1.37-1.37c-.4-.4-.92-.59-1.43-.59-.52 0-1.04.2-1.43.59L10.3 9.45l-7.72 7.72c-.78.78-.78 2.05 0 2.83L4 21.41c.39.39.9.59 1.41.59.51 0 1.02-.2 1.41-.59l7.78-7.78 2.81-2.81c.8-.78.8-2.07 0-2.86zM5.41 20L4 18.59l7.72-7.72 1.47 1.35L5.41 20z\"/>\n",
              "  </svg>\n",
              "      </button>\n",
              "      \n",
              "  <style>\n",
              "    .colab-df-container {\n",
              "      display:flex;\n",
              "      flex-wrap:wrap;\n",
              "      gap: 12px;\n",
              "    }\n",
              "\n",
              "    .colab-df-convert {\n",
              "      background-color: #E8F0FE;\n",
              "      border: none;\n",
              "      border-radius: 50%;\n",
              "      cursor: pointer;\n",
              "      display: none;\n",
              "      fill: #1967D2;\n",
              "      height: 32px;\n",
              "      padding: 0 0 0 0;\n",
              "      width: 32px;\n",
              "    }\n",
              "\n",
              "    .colab-df-convert:hover {\n",
              "      background-color: #E2EBFA;\n",
              "      box-shadow: 0px 1px 2px rgba(60, 64, 67, 0.3), 0px 1px 3px 1px rgba(60, 64, 67, 0.15);\n",
              "      fill: #174EA6;\n",
              "    }\n",
              "\n",
              "    [theme=dark] .colab-df-convert {\n",
              "      background-color: #3B4455;\n",
              "      fill: #D2E3FC;\n",
              "    }\n",
              "\n",
              "    [theme=dark] .colab-df-convert:hover {\n",
              "      background-color: #434B5C;\n",
              "      box-shadow: 0px 1px 3px 1px rgba(0, 0, 0, 0.15);\n",
              "      filter: drop-shadow(0px 1px 2px rgba(0, 0, 0, 0.3));\n",
              "      fill: #FFFFFF;\n",
              "    }\n",
              "  </style>\n",
              "\n",
              "      <script>\n",
              "        const buttonEl =\n",
              "          document.querySelector('#df-62268e6c-2351-4b7e-a28e-de909b4d9e6a button.colab-df-convert');\n",
              "        buttonEl.style.display =\n",
              "          google.colab.kernel.accessAllowed ? 'block' : 'none';\n",
              "\n",
              "        async function convertToInteractive(key) {\n",
              "          const element = document.querySelector('#df-62268e6c-2351-4b7e-a28e-de909b4d9e6a');\n",
              "          const dataTable =\n",
              "            await google.colab.kernel.invokeFunction('convertToInteractive',\n",
              "                                                     [key], {});\n",
              "          if (!dataTable) return;\n",
              "\n",
              "          const docLinkHtml = 'Like what you see? Visit the ' +\n",
              "            '<a target=\"_blank\" href=https://colab.research.google.com/notebooks/data_table.ipynb>data table notebook</a>'\n",
              "            + ' to learn more about interactive tables.';\n",
              "          element.innerHTML = '';\n",
              "          dataTable['output_type'] = 'display_data';\n",
              "          await google.colab.output.renderOutput(dataTable, element);\n",
              "          const docLink = document.createElement('div');\n",
              "          docLink.innerHTML = docLinkHtml;\n",
              "          element.appendChild(docLink);\n",
              "        }\n",
              "      </script>\n",
              "    </div>\n",
              "  </div>\n",
              "  "
            ]
          },
          "metadata": {},
          "execution_count": 63
        }
      ]
    },
    {
      "cell_type": "code",
      "source": [
        "oil.isnull().sum()"
      ],
      "metadata": {
        "colab": {
          "base_uri": "https://localhost:8080/"
        },
        "id": "cAgswPP_pb_u",
        "outputId": "31b6fc2a-063f-4019-9c2c-e72059ae5fb9"
      },
      "execution_count": 79,
      "outputs": [
        {
          "output_type": "execute_result",
          "data": {
            "text/plain": [
              "date           0\n",
              "price          0\n",
              "delta          0\n",
              "delta_ratio    0\n",
              "dtype: int64"
            ]
          },
          "metadata": {},
          "execution_count": 79
        }
      ]
    },
    {
      "cell_type": "markdown",
      "source": [
        "##유연탄 EDA"
      ],
      "metadata": {
        "id": "DSwHkFN6IZJY"
      }
    },
    {
      "cell_type": "code",
      "source": [
        "rock.shape"
      ],
      "metadata": {
        "colab": {
          "base_uri": "https://localhost:8080/"
        },
        "id": "9VLQQhIPoXyO",
        "outputId": "e51cca36-ed9e-44c0-f982-46fcc38b6b64"
      },
      "execution_count": 69,
      "outputs": [
        {
          "output_type": "execute_result",
          "data": {
            "text/plain": [
              "(160, 4)"
            ]
          },
          "metadata": {},
          "execution_count": 69
        }
      ]
    },
    {
      "cell_type": "code",
      "source": [
        "rock.info()"
      ],
      "metadata": {
        "colab": {
          "base_uri": "https://localhost:8080/"
        },
        "id": "nqtJ2V8Fo2mo",
        "outputId": "b9ac4bb5-559d-4b46-8052-bb88b0162768"
      },
      "execution_count": 70,
      "outputs": [
        {
          "output_type": "stream",
          "name": "stdout",
          "text": [
            "<class 'pandas.core.frame.DataFrame'>\n",
            "Int64Index: 160 entries, 0 to 159\n",
            "Data columns (total 4 columns):\n",
            " #   Column       Non-Null Count  Dtype  \n",
            "---  ------       --------------  -----  \n",
            " 0   date         160 non-null    object \n",
            " 1   price        160 non-null    float64\n",
            " 2   delta        160 non-null    float64\n",
            " 3   delta_ratio  160 non-null    float64\n",
            "dtypes: float64(3), object(1)\n",
            "memory usage: 6.2+ KB\n"
          ]
        }
      ]
    },
    {
      "cell_type": "code",
      "source": [
        "rock.describe()"
      ],
      "metadata": {
        "colab": {
          "base_uri": "https://localhost:8080/",
          "height": 300
        },
        "id": "ouKY_k-PpPxx",
        "outputId": "6d2f0fb9-91e1-4df0-a4f4-a40ce4008160"
      },
      "execution_count": 71,
      "outputs": [
        {
          "output_type": "execute_result",
          "data": {
            "text/plain": [
              "            price       delta  delta_ratio\n",
              "count  160.000000  160.000000   160.000000\n",
              "mean    94.405063    0.775938     0.805688\n",
              "std     51.571901    9.396679     5.963034\n",
              "min     44.000000  -30.200000   -15.640000\n",
              "25%     59.975000   -0.702500    -0.822500\n",
              "50%     69.510000   -0.010000    -0.015000\n",
              "75%    126.775000    1.892500     2.110000\n",
              "max    256.000000   83.900000    48.750000"
            ],
            "text/html": [
              "\n",
              "  <div id=\"df-25b4af89-3723-460d-8985-d3e941e2886f\">\n",
              "    <div class=\"colab-df-container\">\n",
              "      <div>\n",
              "<style scoped>\n",
              "    .dataframe tbody tr th:only-of-type {\n",
              "        vertical-align: middle;\n",
              "    }\n",
              "\n",
              "    .dataframe tbody tr th {\n",
              "        vertical-align: top;\n",
              "    }\n",
              "\n",
              "    .dataframe thead th {\n",
              "        text-align: right;\n",
              "    }\n",
              "</style>\n",
              "<table border=\"1\" class=\"dataframe\">\n",
              "  <thead>\n",
              "    <tr style=\"text-align: right;\">\n",
              "      <th></th>\n",
              "      <th>price</th>\n",
              "      <th>delta</th>\n",
              "      <th>delta_ratio</th>\n",
              "    </tr>\n",
              "  </thead>\n",
              "  <tbody>\n",
              "    <tr>\n",
              "      <th>count</th>\n",
              "      <td>160.000000</td>\n",
              "      <td>160.000000</td>\n",
              "      <td>160.000000</td>\n",
              "    </tr>\n",
              "    <tr>\n",
              "      <th>mean</th>\n",
              "      <td>94.405063</td>\n",
              "      <td>0.775938</td>\n",
              "      <td>0.805688</td>\n",
              "    </tr>\n",
              "    <tr>\n",
              "      <th>std</th>\n",
              "      <td>51.571901</td>\n",
              "      <td>9.396679</td>\n",
              "      <td>5.963034</td>\n",
              "    </tr>\n",
              "    <tr>\n",
              "      <th>min</th>\n",
              "      <td>44.000000</td>\n",
              "      <td>-30.200000</td>\n",
              "      <td>-15.640000</td>\n",
              "    </tr>\n",
              "    <tr>\n",
              "      <th>25%</th>\n",
              "      <td>59.975000</td>\n",
              "      <td>-0.702500</td>\n",
              "      <td>-0.822500</td>\n",
              "    </tr>\n",
              "    <tr>\n",
              "      <th>50%</th>\n",
              "      <td>69.510000</td>\n",
              "      <td>-0.010000</td>\n",
              "      <td>-0.015000</td>\n",
              "    </tr>\n",
              "    <tr>\n",
              "      <th>75%</th>\n",
              "      <td>126.775000</td>\n",
              "      <td>1.892500</td>\n",
              "      <td>2.110000</td>\n",
              "    </tr>\n",
              "    <tr>\n",
              "      <th>max</th>\n",
              "      <td>256.000000</td>\n",
              "      <td>83.900000</td>\n",
              "      <td>48.750000</td>\n",
              "    </tr>\n",
              "  </tbody>\n",
              "</table>\n",
              "</div>\n",
              "      <button class=\"colab-df-convert\" onclick=\"convertToInteractive('df-25b4af89-3723-460d-8985-d3e941e2886f')\"\n",
              "              title=\"Convert this dataframe to an interactive table.\"\n",
              "              style=\"display:none;\">\n",
              "        \n",
              "  <svg xmlns=\"http://www.w3.org/2000/svg\" height=\"24px\"viewBox=\"0 0 24 24\"\n",
              "       width=\"24px\">\n",
              "    <path d=\"M0 0h24v24H0V0z\" fill=\"none\"/>\n",
              "    <path d=\"M18.56 5.44l.94 2.06.94-2.06 2.06-.94-2.06-.94-.94-2.06-.94 2.06-2.06.94zm-11 1L8.5 8.5l.94-2.06 2.06-.94-2.06-.94L8.5 2.5l-.94 2.06-2.06.94zm10 10l.94 2.06.94-2.06 2.06-.94-2.06-.94-.94-2.06-.94 2.06-2.06.94z\"/><path d=\"M17.41 7.96l-1.37-1.37c-.4-.4-.92-.59-1.43-.59-.52 0-1.04.2-1.43.59L10.3 9.45l-7.72 7.72c-.78.78-.78 2.05 0 2.83L4 21.41c.39.39.9.59 1.41.59.51 0 1.02-.2 1.41-.59l7.78-7.78 2.81-2.81c.8-.78.8-2.07 0-2.86zM5.41 20L4 18.59l7.72-7.72 1.47 1.35L5.41 20z\"/>\n",
              "  </svg>\n",
              "      </button>\n",
              "      \n",
              "  <style>\n",
              "    .colab-df-container {\n",
              "      display:flex;\n",
              "      flex-wrap:wrap;\n",
              "      gap: 12px;\n",
              "    }\n",
              "\n",
              "    .colab-df-convert {\n",
              "      background-color: #E8F0FE;\n",
              "      border: none;\n",
              "      border-radius: 50%;\n",
              "      cursor: pointer;\n",
              "      display: none;\n",
              "      fill: #1967D2;\n",
              "      height: 32px;\n",
              "      padding: 0 0 0 0;\n",
              "      width: 32px;\n",
              "    }\n",
              "\n",
              "    .colab-df-convert:hover {\n",
              "      background-color: #E2EBFA;\n",
              "      box-shadow: 0px 1px 2px rgba(60, 64, 67, 0.3), 0px 1px 3px 1px rgba(60, 64, 67, 0.15);\n",
              "      fill: #174EA6;\n",
              "    }\n",
              "\n",
              "    [theme=dark] .colab-df-convert {\n",
              "      background-color: #3B4455;\n",
              "      fill: #D2E3FC;\n",
              "    }\n",
              "\n",
              "    [theme=dark] .colab-df-convert:hover {\n",
              "      background-color: #434B5C;\n",
              "      box-shadow: 0px 1px 3px 1px rgba(0, 0, 0, 0.15);\n",
              "      filter: drop-shadow(0px 1px 2px rgba(0, 0, 0, 0.3));\n",
              "      fill: #FFFFFF;\n",
              "    }\n",
              "  </style>\n",
              "\n",
              "      <script>\n",
              "        const buttonEl =\n",
              "          document.querySelector('#df-25b4af89-3723-460d-8985-d3e941e2886f button.colab-df-convert');\n",
              "        buttonEl.style.display =\n",
              "          google.colab.kernel.accessAllowed ? 'block' : 'none';\n",
              "\n",
              "        async function convertToInteractive(key) {\n",
              "          const element = document.querySelector('#df-25b4af89-3723-460d-8985-d3e941e2886f');\n",
              "          const dataTable =\n",
              "            await google.colab.kernel.invokeFunction('convertToInteractive',\n",
              "                                                     [key], {});\n",
              "          if (!dataTable) return;\n",
              "\n",
              "          const docLinkHtml = 'Like what you see? Visit the ' +\n",
              "            '<a target=\"_blank\" href=https://colab.research.google.com/notebooks/data_table.ipynb>data table notebook</a>'\n",
              "            + ' to learn more about interactive tables.';\n",
              "          element.innerHTML = '';\n",
              "          dataTable['output_type'] = 'display_data';\n",
              "          await google.colab.output.renderOutput(dataTable, element);\n",
              "          const docLink = document.createElement('div');\n",
              "          docLink.innerHTML = docLinkHtml;\n",
              "          element.appendChild(docLink);\n",
              "        }\n",
              "      </script>\n",
              "    </div>\n",
              "  </div>\n",
              "  "
            ]
          },
          "metadata": {},
          "execution_count": 71
        }
      ]
    },
    {
      "cell_type": "code",
      "source": [
        "rock.isnull().sum()"
      ],
      "metadata": {
        "colab": {
          "base_uri": "https://localhost:8080/"
        },
        "id": "E17x4OJGphBC",
        "outputId": "0a7c389e-515a-48a0-830e-d2a3f67c9c32"
      },
      "execution_count": 80,
      "outputs": [
        {
          "output_type": "execute_result",
          "data": {
            "text/plain": [
              "date           0\n",
              "price          0\n",
              "delta          0\n",
              "delta_ratio    0\n",
              "dtype: int64"
            ]
          },
          "metadata": {},
          "execution_count": 80
        }
      ]
    },
    {
      "cell_type": "markdown",
      "source": [
        "##철광석 EDA"
      ],
      "metadata": {
        "id": "Z4TfbHO1Ic9q"
      }
    },
    {
      "cell_type": "code",
      "source": [
        "iron.shape"
      ],
      "metadata": {
        "colab": {
          "base_uri": "https://localhost:8080/"
        },
        "id": "sDU3etS6pQ3e",
        "outputId": "dcdaee56-f65d-4162-c3f2-7fd493582e20"
      },
      "execution_count": 73,
      "outputs": [
        {
          "output_type": "execute_result",
          "data": {
            "text/plain": [
              "(160, 4)"
            ]
          },
          "metadata": {},
          "execution_count": 73
        }
      ]
    },
    {
      "cell_type": "code",
      "source": [
        "iron.info()"
      ],
      "metadata": {
        "colab": {
          "base_uri": "https://localhost:8080/"
        },
        "id": "meh5PhRPpSQP",
        "outputId": "2f2bcdeb-a41a-450e-cf31-fe67f9b47051"
      },
      "execution_count": 74,
      "outputs": [
        {
          "output_type": "stream",
          "name": "stdout",
          "text": [
            "<class 'pandas.core.frame.DataFrame'>\n",
            "Int64Index: 160 entries, 0 to 159\n",
            "Data columns (total 4 columns):\n",
            " #   Column       Non-Null Count  Dtype  \n",
            "---  ------       --------------  -----  \n",
            " 0   date         160 non-null    object \n",
            " 1   price        160 non-null    float64\n",
            " 2   delta        160 non-null    float64\n",
            " 3   delta_ratio  160 non-null    float64\n",
            "dtypes: float64(3), object(1)\n",
            "memory usage: 6.2+ KB\n"
          ]
        }
      ]
    },
    {
      "cell_type": "code",
      "source": [
        "iron.describe()"
      ],
      "metadata": {
        "colab": {
          "base_uri": "https://localhost:8080/",
          "height": 300
        },
        "id": "MP6ft_K8pUAU",
        "outputId": "60f71386-523c-4f7b-f99c-9a80392f8136"
      },
      "execution_count": 75,
      "outputs": [
        {
          "output_type": "execute_result",
          "data": {
            "text/plain": [
              "            price       delta  delta_ratio\n",
              "count  160.000000  160.000000   160.000000\n",
              "mean   128.365312    0.053188     0.203750\n",
              "std     37.058933    7.635172     5.533094\n",
              "min     81.990000  -22.810000   -16.640000\n",
              "25%     95.810000   -3.392500    -2.772500\n",
              "50%    121.440000    0.635000     0.595000\n",
              "75%    150.965000    5.107500     3.935000\n",
              "max    226.460000   29.590000    15.030000"
            ],
            "text/html": [
              "\n",
              "  <div id=\"df-4bacf712-c710-46a1-9495-87fefa08f19e\">\n",
              "    <div class=\"colab-df-container\">\n",
              "      <div>\n",
              "<style scoped>\n",
              "    .dataframe tbody tr th:only-of-type {\n",
              "        vertical-align: middle;\n",
              "    }\n",
              "\n",
              "    .dataframe tbody tr th {\n",
              "        vertical-align: top;\n",
              "    }\n",
              "\n",
              "    .dataframe thead th {\n",
              "        text-align: right;\n",
              "    }\n",
              "</style>\n",
              "<table border=\"1\" class=\"dataframe\">\n",
              "  <thead>\n",
              "    <tr style=\"text-align: right;\">\n",
              "      <th></th>\n",
              "      <th>price</th>\n",
              "      <th>delta</th>\n",
              "      <th>delta_ratio</th>\n",
              "    </tr>\n",
              "  </thead>\n",
              "  <tbody>\n",
              "    <tr>\n",
              "      <th>count</th>\n",
              "      <td>160.000000</td>\n",
              "      <td>160.000000</td>\n",
              "      <td>160.000000</td>\n",
              "    </tr>\n",
              "    <tr>\n",
              "      <th>mean</th>\n",
              "      <td>128.365312</td>\n",
              "      <td>0.053188</td>\n",
              "      <td>0.203750</td>\n",
              "    </tr>\n",
              "    <tr>\n",
              "      <th>std</th>\n",
              "      <td>37.058933</td>\n",
              "      <td>7.635172</td>\n",
              "      <td>5.533094</td>\n",
              "    </tr>\n",
              "    <tr>\n",
              "      <th>min</th>\n",
              "      <td>81.990000</td>\n",
              "      <td>-22.810000</td>\n",
              "      <td>-16.640000</td>\n",
              "    </tr>\n",
              "    <tr>\n",
              "      <th>25%</th>\n",
              "      <td>95.810000</td>\n",
              "      <td>-3.392500</td>\n",
              "      <td>-2.772500</td>\n",
              "    </tr>\n",
              "    <tr>\n",
              "      <th>50%</th>\n",
              "      <td>121.440000</td>\n",
              "      <td>0.635000</td>\n",
              "      <td>0.595000</td>\n",
              "    </tr>\n",
              "    <tr>\n",
              "      <th>75%</th>\n",
              "      <td>150.965000</td>\n",
              "      <td>5.107500</td>\n",
              "      <td>3.935000</td>\n",
              "    </tr>\n",
              "    <tr>\n",
              "      <th>max</th>\n",
              "      <td>226.460000</td>\n",
              "      <td>29.590000</td>\n",
              "      <td>15.030000</td>\n",
              "    </tr>\n",
              "  </tbody>\n",
              "</table>\n",
              "</div>\n",
              "      <button class=\"colab-df-convert\" onclick=\"convertToInteractive('df-4bacf712-c710-46a1-9495-87fefa08f19e')\"\n",
              "              title=\"Convert this dataframe to an interactive table.\"\n",
              "              style=\"display:none;\">\n",
              "        \n",
              "  <svg xmlns=\"http://www.w3.org/2000/svg\" height=\"24px\"viewBox=\"0 0 24 24\"\n",
              "       width=\"24px\">\n",
              "    <path d=\"M0 0h24v24H0V0z\" fill=\"none\"/>\n",
              "    <path d=\"M18.56 5.44l.94 2.06.94-2.06 2.06-.94-2.06-.94-.94-2.06-.94 2.06-2.06.94zm-11 1L8.5 8.5l.94-2.06 2.06-.94-2.06-.94L8.5 2.5l-.94 2.06-2.06.94zm10 10l.94 2.06.94-2.06 2.06-.94-2.06-.94-.94-2.06-.94 2.06-2.06.94z\"/><path d=\"M17.41 7.96l-1.37-1.37c-.4-.4-.92-.59-1.43-.59-.52 0-1.04.2-1.43.59L10.3 9.45l-7.72 7.72c-.78.78-.78 2.05 0 2.83L4 21.41c.39.39.9.59 1.41.59.51 0 1.02-.2 1.41-.59l7.78-7.78 2.81-2.81c.8-.78.8-2.07 0-2.86zM5.41 20L4 18.59l7.72-7.72 1.47 1.35L5.41 20z\"/>\n",
              "  </svg>\n",
              "      </button>\n",
              "      \n",
              "  <style>\n",
              "    .colab-df-container {\n",
              "      display:flex;\n",
              "      flex-wrap:wrap;\n",
              "      gap: 12px;\n",
              "    }\n",
              "\n",
              "    .colab-df-convert {\n",
              "      background-color: #E8F0FE;\n",
              "      border: none;\n",
              "      border-radius: 50%;\n",
              "      cursor: pointer;\n",
              "      display: none;\n",
              "      fill: #1967D2;\n",
              "      height: 32px;\n",
              "      padding: 0 0 0 0;\n",
              "      width: 32px;\n",
              "    }\n",
              "\n",
              "    .colab-df-convert:hover {\n",
              "      background-color: #E2EBFA;\n",
              "      box-shadow: 0px 1px 2px rgba(60, 64, 67, 0.3), 0px 1px 3px 1px rgba(60, 64, 67, 0.15);\n",
              "      fill: #174EA6;\n",
              "    }\n",
              "\n",
              "    [theme=dark] .colab-df-convert {\n",
              "      background-color: #3B4455;\n",
              "      fill: #D2E3FC;\n",
              "    }\n",
              "\n",
              "    [theme=dark] .colab-df-convert:hover {\n",
              "      background-color: #434B5C;\n",
              "      box-shadow: 0px 1px 3px 1px rgba(0, 0, 0, 0.15);\n",
              "      filter: drop-shadow(0px 1px 2px rgba(0, 0, 0, 0.3));\n",
              "      fill: #FFFFFF;\n",
              "    }\n",
              "  </style>\n",
              "\n",
              "      <script>\n",
              "        const buttonEl =\n",
              "          document.querySelector('#df-4bacf712-c710-46a1-9495-87fefa08f19e button.colab-df-convert');\n",
              "        buttonEl.style.display =\n",
              "          google.colab.kernel.accessAllowed ? 'block' : 'none';\n",
              "\n",
              "        async function convertToInteractive(key) {\n",
              "          const element = document.querySelector('#df-4bacf712-c710-46a1-9495-87fefa08f19e');\n",
              "          const dataTable =\n",
              "            await google.colab.kernel.invokeFunction('convertToInteractive',\n",
              "                                                     [key], {});\n",
              "          if (!dataTable) return;\n",
              "\n",
              "          const docLinkHtml = 'Like what you see? Visit the ' +\n",
              "            '<a target=\"_blank\" href=https://colab.research.google.com/notebooks/data_table.ipynb>data table notebook</a>'\n",
              "            + ' to learn more about interactive tables.';\n",
              "          element.innerHTML = '';\n",
              "          dataTable['output_type'] = 'display_data';\n",
              "          await google.colab.output.renderOutput(dataTable, element);\n",
              "          const docLink = document.createElement('div');\n",
              "          docLink.innerHTML = docLinkHtml;\n",
              "          element.appendChild(docLink);\n",
              "        }\n",
              "      </script>\n",
              "    </div>\n",
              "  </div>\n",
              "  "
            ]
          },
          "metadata": {},
          "execution_count": 75
        }
      ]
    },
    {
      "cell_type": "code",
      "source": [
        "iron.isnull().sum()"
      ],
      "metadata": {
        "colab": {
          "base_uri": "https://localhost:8080/"
        },
        "id": "S2lqzEs5pkI-",
        "outputId": "46e29fbc-38b3-49c4-8be2-1c45eef49db1"
      },
      "execution_count": 81,
      "outputs": [
        {
          "output_type": "execute_result",
          "data": {
            "text/plain": [
              "date           0\n",
              "price          0\n",
              "delta          0\n",
              "delta_ratio    0\n",
              "dtype: int64"
            ]
          },
          "metadata": {},
          "execution_count": 81
        }
      ]
    },
    {
      "cell_type": "markdown",
      "source": [
        "##주가 EDA"
      ],
      "metadata": {
        "id": "GyfC5HELIgK5"
      }
    },
    {
      "cell_type": "code",
      "source": [
        "stock.shape"
      ],
      "metadata": {
        "colab": {
          "base_uri": "https://localhost:8080/"
        },
        "id": "kgwOvpf2pVOH",
        "outputId": "79846cd2-9666-4565-f987-60411286a115"
      },
      "execution_count": 76,
      "outputs": [
        {
          "output_type": "execute_result",
          "data": {
            "text/plain": [
              "(34, 8)"
            ]
          },
          "metadata": {},
          "execution_count": 76
        }
      ]
    },
    {
      "cell_type": "code",
      "source": [
        "stock.info()"
      ],
      "metadata": {
        "colab": {
          "base_uri": "https://localhost:8080/"
        },
        "id": "yWpka_eCpWhd",
        "outputId": "1e7b0d14-7611-4f9a-afcc-f607001ac0fe"
      },
      "execution_count": 77,
      "outputs": [
        {
          "output_type": "stream",
          "name": "stdout",
          "text": [
            "<class 'pandas.core.frame.DataFrame'>\n",
            "RangeIndex: 34 entries, 0 to 33\n",
            "Data columns (total 8 columns):\n",
            " #   Column      Non-Null Count  Dtype  \n",
            "---  ------      --------------  -----  \n",
            " 0   date        34 non-null     object \n",
            " 1   daewoo      34 non-null     float64\n",
            " 2   haatz       34 non-null     float64\n",
            " 3   hdc         34 non-null     float64\n",
            " 4   hyundai_di  34 non-null     float64\n",
            " 5   livart      34 non-null     float64\n",
            " 6   skd_d       34 non-null     float64\n",
            " 7   avg         34 non-null     float64\n",
            "dtypes: float64(7), object(1)\n",
            "memory usage: 2.2+ KB\n"
          ]
        }
      ]
    },
    {
      "cell_type": "code",
      "source": [
        "stock.describe()"
      ],
      "metadata": {
        "colab": {
          "base_uri": "https://localhost:8080/",
          "height": 364
        },
        "id": "9r3qtYMppYT1",
        "outputId": "707b611e-80ec-4897-a15c-b63ed1850b34"
      },
      "execution_count": 122,
      "outputs": [
        {
          "output_type": "execute_result",
          "data": {
            "text/plain": [
              "            daewoo         haatz           hdc    hyundai_di        livart  \\\n",
              "count    34.000000     34.000000     34.000000     34.000000     34.000000   \n",
              "mean   5310.960434   8524.972710  23508.796220   7863.376631  15238.366374   \n",
              "std    1559.840512   2051.532919   5714.129075   2912.058919   2806.593588   \n",
              "min    2901.666667   4774.772727  12042.500000   3375.227273   7675.909091   \n",
              "25%    3859.567099   6787.261905  20346.907895   6152.500000  13936.309525   \n",
              "50%    5814.194444   8430.912699  23346.136365   6997.521645  15381.709960   \n",
              "75%    6512.706767   9911.578948  28565.314325   8630.463659  16970.643940   \n",
              "max    8637.727273  12538.636360  32992.105260  15206.818180  19965.909090   \n",
              "\n",
              "              skd_d           avg  \n",
              "count     34.000000     34.000000  \n",
              "mean   33151.973183  15599.740925  \n",
              "std     6225.429493   2725.793422  \n",
              "min    24715.909090   9858.674242  \n",
              "25%    28814.166667  13721.764880  \n",
              "50%    30681.728775  15256.740810  \n",
              "75%    36946.650715  17604.970237  \n",
              "max    45507.142860  20554.318180  "
            ],
            "text/html": [
              "\n",
              "  <div id=\"df-33edd154-28cb-423e-a8f7-70904808d6d2\">\n",
              "    <div class=\"colab-df-container\">\n",
              "      <div>\n",
              "<style scoped>\n",
              "    .dataframe tbody tr th:only-of-type {\n",
              "        vertical-align: middle;\n",
              "    }\n",
              "\n",
              "    .dataframe tbody tr th {\n",
              "        vertical-align: top;\n",
              "    }\n",
              "\n",
              "    .dataframe thead th {\n",
              "        text-align: right;\n",
              "    }\n",
              "</style>\n",
              "<table border=\"1\" class=\"dataframe\">\n",
              "  <thead>\n",
              "    <tr style=\"text-align: right;\">\n",
              "      <th></th>\n",
              "      <th>daewoo</th>\n",
              "      <th>haatz</th>\n",
              "      <th>hdc</th>\n",
              "      <th>hyundai_di</th>\n",
              "      <th>livart</th>\n",
              "      <th>skd_d</th>\n",
              "      <th>avg</th>\n",
              "    </tr>\n",
              "  </thead>\n",
              "  <tbody>\n",
              "    <tr>\n",
              "      <th>count</th>\n",
              "      <td>34.000000</td>\n",
              "      <td>34.000000</td>\n",
              "      <td>34.000000</td>\n",
              "      <td>34.000000</td>\n",
              "      <td>34.000000</td>\n",
              "      <td>34.000000</td>\n",
              "      <td>34.000000</td>\n",
              "    </tr>\n",
              "    <tr>\n",
              "      <th>mean</th>\n",
              "      <td>5310.960434</td>\n",
              "      <td>8524.972710</td>\n",
              "      <td>23508.796220</td>\n",
              "      <td>7863.376631</td>\n",
              "      <td>15238.366374</td>\n",
              "      <td>33151.973183</td>\n",
              "      <td>15599.740925</td>\n",
              "    </tr>\n",
              "    <tr>\n",
              "      <th>std</th>\n",
              "      <td>1559.840512</td>\n",
              "      <td>2051.532919</td>\n",
              "      <td>5714.129075</td>\n",
              "      <td>2912.058919</td>\n",
              "      <td>2806.593588</td>\n",
              "      <td>6225.429493</td>\n",
              "      <td>2725.793422</td>\n",
              "    </tr>\n",
              "    <tr>\n",
              "      <th>min</th>\n",
              "      <td>2901.666667</td>\n",
              "      <td>4774.772727</td>\n",
              "      <td>12042.500000</td>\n",
              "      <td>3375.227273</td>\n",
              "      <td>7675.909091</td>\n",
              "      <td>24715.909090</td>\n",
              "      <td>9858.674242</td>\n",
              "    </tr>\n",
              "    <tr>\n",
              "      <th>25%</th>\n",
              "      <td>3859.567099</td>\n",
              "      <td>6787.261905</td>\n",
              "      <td>20346.907895</td>\n",
              "      <td>6152.500000</td>\n",
              "      <td>13936.309525</td>\n",
              "      <td>28814.166667</td>\n",
              "      <td>13721.764880</td>\n",
              "    </tr>\n",
              "    <tr>\n",
              "      <th>50%</th>\n",
              "      <td>5814.194444</td>\n",
              "      <td>8430.912699</td>\n",
              "      <td>23346.136365</td>\n",
              "      <td>6997.521645</td>\n",
              "      <td>15381.709960</td>\n",
              "      <td>30681.728775</td>\n",
              "      <td>15256.740810</td>\n",
              "    </tr>\n",
              "    <tr>\n",
              "      <th>75%</th>\n",
              "      <td>6512.706767</td>\n",
              "      <td>9911.578948</td>\n",
              "      <td>28565.314325</td>\n",
              "      <td>8630.463659</td>\n",
              "      <td>16970.643940</td>\n",
              "      <td>36946.650715</td>\n",
              "      <td>17604.970237</td>\n",
              "    </tr>\n",
              "    <tr>\n",
              "      <th>max</th>\n",
              "      <td>8637.727273</td>\n",
              "      <td>12538.636360</td>\n",
              "      <td>32992.105260</td>\n",
              "      <td>15206.818180</td>\n",
              "      <td>19965.909090</td>\n",
              "      <td>45507.142860</td>\n",
              "      <td>20554.318180</td>\n",
              "    </tr>\n",
              "  </tbody>\n",
              "</table>\n",
              "</div>\n",
              "      <button class=\"colab-df-convert\" onclick=\"convertToInteractive('df-33edd154-28cb-423e-a8f7-70904808d6d2')\"\n",
              "              title=\"Convert this dataframe to an interactive table.\"\n",
              "              style=\"display:none;\">\n",
              "        \n",
              "  <svg xmlns=\"http://www.w3.org/2000/svg\" height=\"24px\"viewBox=\"0 0 24 24\"\n",
              "       width=\"24px\">\n",
              "    <path d=\"M0 0h24v24H0V0z\" fill=\"none\"/>\n",
              "    <path d=\"M18.56 5.44l.94 2.06.94-2.06 2.06-.94-2.06-.94-.94-2.06-.94 2.06-2.06.94zm-11 1L8.5 8.5l.94-2.06 2.06-.94-2.06-.94L8.5 2.5l-.94 2.06-2.06.94zm10 10l.94 2.06.94-2.06 2.06-.94-2.06-.94-.94-2.06-.94 2.06-2.06.94z\"/><path d=\"M17.41 7.96l-1.37-1.37c-.4-.4-.92-.59-1.43-.59-.52 0-1.04.2-1.43.59L10.3 9.45l-7.72 7.72c-.78.78-.78 2.05 0 2.83L4 21.41c.39.39.9.59 1.41.59.51 0 1.02-.2 1.41-.59l7.78-7.78 2.81-2.81c.8-.78.8-2.07 0-2.86zM5.41 20L4 18.59l7.72-7.72 1.47 1.35L5.41 20z\"/>\n",
              "  </svg>\n",
              "      </button>\n",
              "      \n",
              "  <style>\n",
              "    .colab-df-container {\n",
              "      display:flex;\n",
              "      flex-wrap:wrap;\n",
              "      gap: 12px;\n",
              "    }\n",
              "\n",
              "    .colab-df-convert {\n",
              "      background-color: #E8F0FE;\n",
              "      border: none;\n",
              "      border-radius: 50%;\n",
              "      cursor: pointer;\n",
              "      display: none;\n",
              "      fill: #1967D2;\n",
              "      height: 32px;\n",
              "      padding: 0 0 0 0;\n",
              "      width: 32px;\n",
              "    }\n",
              "\n",
              "    .colab-df-convert:hover {\n",
              "      background-color: #E2EBFA;\n",
              "      box-shadow: 0px 1px 2px rgba(60, 64, 67, 0.3), 0px 1px 3px 1px rgba(60, 64, 67, 0.15);\n",
              "      fill: #174EA6;\n",
              "    }\n",
              "\n",
              "    [theme=dark] .colab-df-convert {\n",
              "      background-color: #3B4455;\n",
              "      fill: #D2E3FC;\n",
              "    }\n",
              "\n",
              "    [theme=dark] .colab-df-convert:hover {\n",
              "      background-color: #434B5C;\n",
              "      box-shadow: 0px 1px 3px 1px rgba(0, 0, 0, 0.15);\n",
              "      filter: drop-shadow(0px 1px 2px rgba(0, 0, 0, 0.3));\n",
              "      fill: #FFFFFF;\n",
              "    }\n",
              "  </style>\n",
              "\n",
              "      <script>\n",
              "        const buttonEl =\n",
              "          document.querySelector('#df-33edd154-28cb-423e-a8f7-70904808d6d2 button.colab-df-convert');\n",
              "        buttonEl.style.display =\n",
              "          google.colab.kernel.accessAllowed ? 'block' : 'none';\n",
              "\n",
              "        async function convertToInteractive(key) {\n",
              "          const element = document.querySelector('#df-33edd154-28cb-423e-a8f7-70904808d6d2');\n",
              "          const dataTable =\n",
              "            await google.colab.kernel.invokeFunction('convertToInteractive',\n",
              "                                                     [key], {});\n",
              "          if (!dataTable) return;\n",
              "\n",
              "          const docLinkHtml = 'Like what you see? Visit the ' +\n",
              "            '<a target=\"_blank\" href=https://colab.research.google.com/notebooks/data_table.ipynb>data table notebook</a>'\n",
              "            + ' to learn more about interactive tables.';\n",
              "          element.innerHTML = '';\n",
              "          dataTable['output_type'] = 'display_data';\n",
              "          await google.colab.output.renderOutput(dataTable, element);\n",
              "          const docLink = document.createElement('div');\n",
              "          docLink.innerHTML = docLinkHtml;\n",
              "          element.appendChild(docLink);\n",
              "        }\n",
              "      </script>\n",
              "    </div>\n",
              "  </div>\n",
              "  "
            ]
          },
          "metadata": {},
          "execution_count": 122
        }
      ]
    },
    {
      "cell_type": "code",
      "source": [
        "stock.isnull().sum()"
      ],
      "metadata": {
        "colab": {
          "base_uri": "https://localhost:8080/"
        },
        "id": "4rDN4O1fpZr0",
        "outputId": "e41a9987-ed50-42b8-ebe7-981d0c89f7ff"
      },
      "execution_count": 82,
      "outputs": [
        {
          "output_type": "execute_result",
          "data": {
            "text/plain": [
              "date          0\n",
              "daewoo        0\n",
              "haatz         0\n",
              "hdc           0\n",
              "hyundai_di    0\n",
              "livart        0\n",
              "skd_d         0\n",
              "avg           0\n",
              "dtype: int64"
            ]
          },
          "metadata": {},
          "execution_count": 82
        }
      ]
    },
    {
      "cell_type": "markdown",
      "source": [
        "##datetime 전처리\n"
      ],
      "metadata": {
        "id": "qKCJvnldIlJW"
      }
    },
    {
      "cell_type": "code",
      "source": [
        "oil['date'] = pd.to_datetime(oil['date'])\n",
        "rock['date'] = pd.to_datetime(rock['date'])\n",
        "iron['date'] = pd.to_datetime(iron['date'])\n",
        "stock['date'] = pd.to_datetime(stock['date'])\n"
      ],
      "metadata": {
        "id": "by9M3qxWp8Hs"
      },
      "execution_count": 90,
      "outputs": []
    },
    {
      "cell_type": "code",
      "source": [
        "oil"
      ],
      "metadata": {
        "colab": {
          "base_uri": "https://localhost:8080/",
          "height": 423
        },
        "id": "B1vcmlmPrawo",
        "outputId": "ac076e09-8323-4557-fad2-deff90fe4b1a"
      },
      "execution_count": 95,
      "outputs": [
        {
          "output_type": "execute_result",
          "data": {
            "text/plain": [
              "          date   price  delta  delta_ratio\n",
              "0   2019-06-07   61.20  -2.63        -4.12\n",
              "1   2019-06-14   59.90  -1.30        -2.12\n",
              "2   2019-06-21   64.22   4.32         7.21\n",
              "3   2019-06-28   64.88   0.66         1.03\n",
              "4   2019-07-05   61.62  -3.26        -5.02\n",
              "..         ...     ...    ...          ...\n",
              "149 2022-05-27  112.36   4.29         3.97\n",
              "150 2022-06-03  112.12  -0.24        -0.21\n",
              "151 2022-06-10  118.94   6.82         6.08\n",
              "152 2022-06-17  116.29  -2.65        -2.23\n",
              "153 2022-06-24  106.51  -9.78        -8.41\n",
              "\n",
              "[154 rows x 4 columns]"
            ],
            "text/html": [
              "\n",
              "  <div id=\"df-bc264ad9-9903-4a44-9ded-54f4a0c2874f\">\n",
              "    <div class=\"colab-df-container\">\n",
              "      <div>\n",
              "<style scoped>\n",
              "    .dataframe tbody tr th:only-of-type {\n",
              "        vertical-align: middle;\n",
              "    }\n",
              "\n",
              "    .dataframe tbody tr th {\n",
              "        vertical-align: top;\n",
              "    }\n",
              "\n",
              "    .dataframe thead th {\n",
              "        text-align: right;\n",
              "    }\n",
              "</style>\n",
              "<table border=\"1\" class=\"dataframe\">\n",
              "  <thead>\n",
              "    <tr style=\"text-align: right;\">\n",
              "      <th></th>\n",
              "      <th>date</th>\n",
              "      <th>price</th>\n",
              "      <th>delta</th>\n",
              "      <th>delta_ratio</th>\n",
              "    </tr>\n",
              "  </thead>\n",
              "  <tbody>\n",
              "    <tr>\n",
              "      <th>0</th>\n",
              "      <td>2019-06-07</td>\n",
              "      <td>61.20</td>\n",
              "      <td>-2.63</td>\n",
              "      <td>-4.12</td>\n",
              "    </tr>\n",
              "    <tr>\n",
              "      <th>1</th>\n",
              "      <td>2019-06-14</td>\n",
              "      <td>59.90</td>\n",
              "      <td>-1.30</td>\n",
              "      <td>-2.12</td>\n",
              "    </tr>\n",
              "    <tr>\n",
              "      <th>2</th>\n",
              "      <td>2019-06-21</td>\n",
              "      <td>64.22</td>\n",
              "      <td>4.32</td>\n",
              "      <td>7.21</td>\n",
              "    </tr>\n",
              "    <tr>\n",
              "      <th>3</th>\n",
              "      <td>2019-06-28</td>\n",
              "      <td>64.88</td>\n",
              "      <td>0.66</td>\n",
              "      <td>1.03</td>\n",
              "    </tr>\n",
              "    <tr>\n",
              "      <th>4</th>\n",
              "      <td>2019-07-05</td>\n",
              "      <td>61.62</td>\n",
              "      <td>-3.26</td>\n",
              "      <td>-5.02</td>\n",
              "    </tr>\n",
              "    <tr>\n",
              "      <th>...</th>\n",
              "      <td>...</td>\n",
              "      <td>...</td>\n",
              "      <td>...</td>\n",
              "      <td>...</td>\n",
              "    </tr>\n",
              "    <tr>\n",
              "      <th>149</th>\n",
              "      <td>2022-05-27</td>\n",
              "      <td>112.36</td>\n",
              "      <td>4.29</td>\n",
              "      <td>3.97</td>\n",
              "    </tr>\n",
              "    <tr>\n",
              "      <th>150</th>\n",
              "      <td>2022-06-03</td>\n",
              "      <td>112.12</td>\n",
              "      <td>-0.24</td>\n",
              "      <td>-0.21</td>\n",
              "    </tr>\n",
              "    <tr>\n",
              "      <th>151</th>\n",
              "      <td>2022-06-10</td>\n",
              "      <td>118.94</td>\n",
              "      <td>6.82</td>\n",
              "      <td>6.08</td>\n",
              "    </tr>\n",
              "    <tr>\n",
              "      <th>152</th>\n",
              "      <td>2022-06-17</td>\n",
              "      <td>116.29</td>\n",
              "      <td>-2.65</td>\n",
              "      <td>-2.23</td>\n",
              "    </tr>\n",
              "    <tr>\n",
              "      <th>153</th>\n",
              "      <td>2022-06-24</td>\n",
              "      <td>106.51</td>\n",
              "      <td>-9.78</td>\n",
              "      <td>-8.41</td>\n",
              "    </tr>\n",
              "  </tbody>\n",
              "</table>\n",
              "<p>154 rows × 4 columns</p>\n",
              "</div>\n",
              "      <button class=\"colab-df-convert\" onclick=\"convertToInteractive('df-bc264ad9-9903-4a44-9ded-54f4a0c2874f')\"\n",
              "              title=\"Convert this dataframe to an interactive table.\"\n",
              "              style=\"display:none;\">\n",
              "        \n",
              "  <svg xmlns=\"http://www.w3.org/2000/svg\" height=\"24px\"viewBox=\"0 0 24 24\"\n",
              "       width=\"24px\">\n",
              "    <path d=\"M0 0h24v24H0V0z\" fill=\"none\"/>\n",
              "    <path d=\"M18.56 5.44l.94 2.06.94-2.06 2.06-.94-2.06-.94-.94-2.06-.94 2.06-2.06.94zm-11 1L8.5 8.5l.94-2.06 2.06-.94-2.06-.94L8.5 2.5l-.94 2.06-2.06.94zm10 10l.94 2.06.94-2.06 2.06-.94-2.06-.94-.94-2.06-.94 2.06-2.06.94z\"/><path d=\"M17.41 7.96l-1.37-1.37c-.4-.4-.92-.59-1.43-.59-.52 0-1.04.2-1.43.59L10.3 9.45l-7.72 7.72c-.78.78-.78 2.05 0 2.83L4 21.41c.39.39.9.59 1.41.59.51 0 1.02-.2 1.41-.59l7.78-7.78 2.81-2.81c.8-.78.8-2.07 0-2.86zM5.41 20L4 18.59l7.72-7.72 1.47 1.35L5.41 20z\"/>\n",
              "  </svg>\n",
              "      </button>\n",
              "      \n",
              "  <style>\n",
              "    .colab-df-container {\n",
              "      display:flex;\n",
              "      flex-wrap:wrap;\n",
              "      gap: 12px;\n",
              "    }\n",
              "\n",
              "    .colab-df-convert {\n",
              "      background-color: #E8F0FE;\n",
              "      border: none;\n",
              "      border-radius: 50%;\n",
              "      cursor: pointer;\n",
              "      display: none;\n",
              "      fill: #1967D2;\n",
              "      height: 32px;\n",
              "      padding: 0 0 0 0;\n",
              "      width: 32px;\n",
              "    }\n",
              "\n",
              "    .colab-df-convert:hover {\n",
              "      background-color: #E2EBFA;\n",
              "      box-shadow: 0px 1px 2px rgba(60, 64, 67, 0.3), 0px 1px 3px 1px rgba(60, 64, 67, 0.15);\n",
              "      fill: #174EA6;\n",
              "    }\n",
              "\n",
              "    [theme=dark] .colab-df-convert {\n",
              "      background-color: #3B4455;\n",
              "      fill: #D2E3FC;\n",
              "    }\n",
              "\n",
              "    [theme=dark] .colab-df-convert:hover {\n",
              "      background-color: #434B5C;\n",
              "      box-shadow: 0px 1px 3px 1px rgba(0, 0, 0, 0.15);\n",
              "      filter: drop-shadow(0px 1px 2px rgba(0, 0, 0, 0.3));\n",
              "      fill: #FFFFFF;\n",
              "    }\n",
              "  </style>\n",
              "\n",
              "      <script>\n",
              "        const buttonEl =\n",
              "          document.querySelector('#df-bc264ad9-9903-4a44-9ded-54f4a0c2874f button.colab-df-convert');\n",
              "        buttonEl.style.display =\n",
              "          google.colab.kernel.accessAllowed ? 'block' : 'none';\n",
              "\n",
              "        async function convertToInteractive(key) {\n",
              "          const element = document.querySelector('#df-bc264ad9-9903-4a44-9ded-54f4a0c2874f');\n",
              "          const dataTable =\n",
              "            await google.colab.kernel.invokeFunction('convertToInteractive',\n",
              "                                                     [key], {});\n",
              "          if (!dataTable) return;\n",
              "\n",
              "          const docLinkHtml = 'Like what you see? Visit the ' +\n",
              "            '<a target=\"_blank\" href=https://colab.research.google.com/notebooks/data_table.ipynb>data table notebook</a>'\n",
              "            + ' to learn more about interactive tables.';\n",
              "          element.innerHTML = '';\n",
              "          dataTable['output_type'] = 'display_data';\n",
              "          await google.colab.output.renderOutput(dataTable, element);\n",
              "          const docLink = document.createElement('div');\n",
              "          docLink.innerHTML = docLinkHtml;\n",
              "          element.appendChild(docLink);\n",
              "        }\n",
              "      </script>\n",
              "    </div>\n",
              "  </div>\n",
              "  "
            ]
          },
          "metadata": {},
          "execution_count": 95
        }
      ]
    },
    {
      "cell_type": "markdown",
      "source": [
        "##각 데이터별 시각화(스케일링 전)"
      ],
      "metadata": {
        "id": "kBgH8RALIpBy"
      }
    },
    {
      "cell_type": "code",
      "source": [
        "oil.plot(x='date')\n",
        "plt.show()"
      ],
      "metadata": {
        "colab": {
          "base_uri": "https://localhost:8080/",
          "height": 277
        },
        "id": "ZlBx7gXbppMy",
        "outputId": "86b6b0d2-b992-4a78-edf3-0a6809c72780"
      },
      "execution_count": 96,
      "outputs": [
        {
          "output_type": "display_data",
          "data": {
            "text/plain": [
              "<Figure size 432x288 with 1 Axes>"
            ],
            "image/png": "[encoded data removed]"
          },
          "metadata": {
            "needs_background": "light"
          }
        }
      ]
    },
    {
      "cell_type": "code",
      "source": [
        "rock.plot(x='date')\n",
        "plt.show()"
      ],
      "metadata": {
        "colab": {
          "base_uri": "https://localhost:8080/",
          "height": 291
        },
        "id": "PLT51ps2rilw",
        "outputId": "65b6f874-5932-454c-d743-a4204a3711af"
      },
      "execution_count": 98,
      "outputs": [
        {
          "output_type": "display_data",
          "data": {
            "text/plain": [
              "<Figure size 432x288 with 1 Axes>"
            ],
            "image/png": "[encoded data removed]"
          },
          "metadata": {
            "needs_background": "light"
          }
        }
      ]
    },
    {
      "cell_type": "code",
      "source": [
        "iron.plot(x='date')\n",
        "plt.show()"
      ],
      "metadata": {
        "colab": {
          "base_uri": "https://localhost:8080/",
          "height": 291
        },
        "id": "hySCUzVOrkhN",
        "outputId": "315c19e2-ad33-4a8f-bc43-9f2d6c829aa2"
      },
      "execution_count": 99,
      "outputs": [
        {
          "output_type": "display_data",
          "data": {
            "text/plain": [
              "<Figure size 432x288 with 1 Axes>"
            ],
            "image/png": "[encoded data removed]"
          },
          "metadata": {
            "needs_background": "light"
          }
        }
      ]
    },
    {
      "cell_type": "code",
      "source": [
        "stock.plot(x='date')\n",
        "plt.show()"
      ],
      "metadata": {
        "colab": {
          "base_uri": "https://localhost:8080/",
          "height": 291
        },
        "id": "WsTwhh7Op3Kn",
        "outputId": "458f641b-efe9-4978-b361-02498ba59c43"
      },
      "execution_count": 97,
      "outputs": [
        {
          "output_type": "display_data",
          "data": {
            "text/plain": [
              "<Figure size 432x288 with 1 Axes>"
            ],
            "image/png": "[encoded data removed]"
          },
          "metadata": {
            "needs_background": "light"
          }
        }
      ]
    },
    {
      "cell_type": "code",
      "source": [
        "# #oil 빈행 추가해서 차원 맞추기\n",
        "# temp_df = pd.DataFrame(index=range(0,6), columns=oil.columns)\n",
        "# temp_df\n",
        "\n",
        "# oil_re = pd.concat([oil, temp_df], axis=0, ignore_index=True)\n",
        "# oil_re"
      ],
      "metadata": {
        "colab": {
          "base_uri": "https://localhost:8080/",
          "height": 237
        },
        "id": "i9vdP_AisO71",
        "outputId": "c2e0048c-6186-4def-fe60-14f875f18894"
      },
      "execution_count": 114,
      "outputs": [
        {
          "output_type": "execute_result",
          "data": {
            "text/plain": [
              "  date price delta delta_ratio\n",
              "0  NaN   NaN   NaN         NaN\n",
              "1  NaN   NaN   NaN         NaN\n",
              "2  NaN   NaN   NaN         NaN\n",
              "3  NaN   NaN   NaN         NaN\n",
              "4  NaN   NaN   NaN         NaN\n",
              "5  NaN   NaN   NaN         NaN"
            ],
            "text/html": [
              "\n",
              "  <div id=\"df-a905ef32-85ab-4047-ae19-6fa756e7a712\">\n",
              "    <div class=\"colab-df-container\">\n",
              "      <div>\n",
              "<style scoped>\n",
              "    .dataframe tbody tr th:only-of-type {\n",
              "        vertical-align: middle;\n",
              "    }\n",
              "\n",
              "    .dataframe tbody tr th {\n",
              "        vertical-align: top;\n",
              "    }\n",
              "\n",
              "    .dataframe thead th {\n",
              "        text-align: right;\n",
              "    }\n",
              "</style>\n",
              "<table border=\"1\" class=\"dataframe\">\n",
              "  <thead>\n",
              "    <tr style=\"text-align: right;\">\n",
              "      <th></th>\n",
              "      <th>date</th>\n",
              "      <th>price</th>\n",
              "      <th>delta</th>\n",
              "      <th>delta_ratio</th>\n",
              "    </tr>\n",
              "  </thead>\n",
              "  <tbody>\n",
              "    <tr>\n",
              "      <th>0</th>\n",
              "      <td>NaN</td>\n",
              "      <td>NaN</td>\n",
              "      <td>NaN</td>\n",
              "      <td>NaN</td>\n",
              "    </tr>\n",
              "    <tr>\n",
              "      <th>1</th>\n",
              "      <td>NaN</td>\n",
              "      <td>NaN</td>\n",
              "      <td>NaN</td>\n",
              "      <td>NaN</td>\n",
              "    </tr>\n",
              "    <tr>\n",
              "      <th>2</th>\n",
              "      <td>NaN</td>\n",
              "      <td>NaN</td>\n",
              "      <td>NaN</td>\n",
              "      <td>NaN</td>\n",
              "    </tr>\n",
              "    <tr>\n",
              "      <th>3</th>\n",
              "      <td>NaN</td>\n",
              "      <td>NaN</td>\n",
              "      <td>NaN</td>\n",
              "      <td>NaN</td>\n",
              "    </tr>\n",
              "    <tr>\n",
              "      <th>4</th>\n",
              "      <td>NaN</td>\n",
              "      <td>NaN</td>\n",
              "      <td>NaN</td>\n",
              "      <td>NaN</td>\n",
              "    </tr>\n",
              "    <tr>\n",
              "      <th>5</th>\n",
              "      <td>NaN</td>\n",
              "      <td>NaN</td>\n",
              "      <td>NaN</td>\n",
              "      <td>NaN</td>\n",
              "    </tr>\n",
              "  </tbody>\n",
              "</table>\n",
              "</div>\n",
              "      <button class=\"colab-df-convert\" onclick=\"convertToInteractive('df-a905ef32-85ab-4047-ae19-6fa756e7a712')\"\n",
              "              title=\"Convert this dataframe to an interactive table.\"\n",
              "              style=\"display:none;\">\n",
              "        \n",
              "  <svg xmlns=\"http://www.w3.org/2000/svg\" height=\"24px\"viewBox=\"0 0 24 24\"\n",
              "       width=\"24px\">\n",
              "    <path d=\"M0 0h24v24H0V0z\" fill=\"none\"/>\n",
              "    <path d=\"M18.56 5.44l.94 2.06.94-2.06 2.06-.94-2.06-.94-.94-2.06-.94 2.06-2.06.94zm-11 1L8.5 8.5l.94-2.06 2.06-.94-2.06-.94L8.5 2.5l-.94 2.06-2.06.94zm10 10l.94 2.06.94-2.06 2.06-.94-2.06-.94-.94-2.06-.94 2.06-2.06.94z\"/><path d=\"M17.41 7.96l-1.37-1.37c-.4-.4-.92-.59-1.43-.59-.52 0-1.04.2-1.43.59L10.3 9.45l-7.72 7.72c-.78.78-.78 2.05 0 2.83L4 21.41c.39.39.9.59 1.41.59.51 0 1.02-.2 1.41-.59l7.78-7.78 2.81-2.81c.8-.78.8-2.07 0-2.86zM5.41 20L4 18.59l7.72-7.72 1.47 1.35L5.41 20z\"/>\n",
              "  </svg>\n",
              "      </button>\n",
              "      \n",
              "  <style>\n",
              "    .colab-df-container {\n",
              "      display:flex;\n",
              "      flex-wrap:wrap;\n",
              "      gap: 12px;\n",
              "    }\n",
              "\n",
              "    .colab-df-convert {\n",
              "      background-color: #E8F0FE;\n",
              "      border: none;\n",
              "      border-radius: 50%;\n",
              "      cursor: pointer;\n",
              "      display: none;\n",
              "      fill: #1967D2;\n",
              "      height: 32px;\n",
              "      padding: 0 0 0 0;\n",
              "      width: 32px;\n",
              "    }\n",
              "\n",
              "    .colab-df-convert:hover {\n",
              "      background-color: #E2EBFA;\n",
              "      box-shadow: 0px 1px 2px rgba(60, 64, 67, 0.3), 0px 1px 3px 1px rgba(60, 64, 67, 0.15);\n",
              "      fill: #174EA6;\n",
              "    }\n",
              "\n",
              "    [theme=dark] .colab-df-convert {\n",
              "      background-color: #3B4455;\n",
              "      fill: #D2E3FC;\n",
              "    }\n",
              "\n",
              "    [theme=dark] .colab-df-convert:hover {\n",
              "      background-color: #434B5C;\n",
              "      box-shadow: 0px 1px 3px 1px rgba(0, 0, 0, 0.15);\n",
              "      filter: drop-shadow(0px 1px 2px rgba(0, 0, 0, 0.3));\n",
              "      fill: #FFFFFF;\n",
              "    }\n",
              "  </style>\n",
              "\n",
              "      <script>\n",
              "        const buttonEl =\n",
              "          document.querySelector('#df-a905ef32-85ab-4047-ae19-6fa756e7a712 button.colab-df-convert');\n",
              "        buttonEl.style.display =\n",
              "          google.colab.kernel.accessAllowed ? 'block' : 'none';\n",
              "\n",
              "        async function convertToInteractive(key) {\n",
              "          const element = document.querySelector('#df-a905ef32-85ab-4047-ae19-6fa756e7a712');\n",
              "          const dataTable =\n",
              "            await google.colab.kernel.invokeFunction('convertToInteractive',\n",
              "                                                     [key], {});\n",
              "          if (!dataTable) return;\n",
              "\n",
              "          const docLinkHtml = 'Like what you see? Visit the ' +\n",
              "            '<a target=\"_blank\" href=https://colab.research.google.com/notebooks/data_table.ipynb>data table notebook</a>'\n",
              "            + ' to learn more about interactive tables.';\n",
              "          element.innerHTML = '';\n",
              "          dataTable['output_type'] = 'display_data';\n",
              "          await google.colab.output.renderOutput(dataTable, element);\n",
              "          const docLink = document.createElement('div');\n",
              "          docLink.innerHTML = docLinkHtml;\n",
              "          element.appendChild(docLink);\n",
              "        }\n",
              "      </script>\n",
              "    </div>\n",
              "  </div>\n",
              "  "
            ]
          },
          "metadata": {},
          "execution_count": 114
        }
      ]
    },
    {
      "cell_type": "code",
      "source": [
        "oil_re"
      ],
      "metadata": {
        "colab": {
          "base_uri": "https://localhost:8080/",
          "height": 423
        },
        "id": "ZDk9Q01d0K9V",
        "outputId": "5f552f82-c77f-44da-d217-223206c57336"
      },
      "execution_count": 128,
      "outputs": [
        {
          "output_type": "execute_result",
          "data": {
            "text/plain": [
              "          date  price  delta  delta_ratio\n",
              "0   2019-06-07  61.20  -2.63        -4.12\n",
              "1   2019-06-14  59.90  -1.30        -2.12\n",
              "2   2019-06-21  64.22   4.32         7.21\n",
              "3   2019-06-28  64.88   0.66         1.03\n",
              "4   2019-07-05  61.62  -3.26        -5.02\n",
              "..         ...    ...    ...          ...\n",
              "155        NaT    NaN    NaN          NaN\n",
              "156        NaT    NaN    NaN          NaN\n",
              "157        NaT    NaN    NaN          NaN\n",
              "158        NaT    NaN    NaN          NaN\n",
              "159        NaT    NaN    NaN          NaN\n",
              "\n",
              "[160 rows x 4 columns]"
            ],
            "text/html": [
              "\n",
              "  <div id=\"df-db221991-e97a-45a7-98e6-09750fef63b3\">\n",
              "    <div class=\"colab-df-container\">\n",
              "      <div>\n",
              "<style scoped>\n",
              "    .dataframe tbody tr th:only-of-type {\n",
              "        vertical-align: middle;\n",
              "    }\n",
              "\n",
              "    .dataframe tbody tr th {\n",
              "        vertical-align: top;\n",
              "    }\n",
              "\n",
              "    .dataframe thead th {\n",
              "        text-align: right;\n",
              "    }\n",
              "</style>\n",
              "<table border=\"1\" class=\"dataframe\">\n",
              "  <thead>\n",
              "    <tr style=\"text-align: right;\">\n",
              "      <th></th>\n",
              "      <th>date</th>\n",
              "      <th>price</th>\n",
              "      <th>delta</th>\n",
              "      <th>delta_ratio</th>\n",
              "    </tr>\n",
              "  </thead>\n",
              "  <tbody>\n",
              "    <tr>\n",
              "      <th>0</th>\n",
              "      <td>2019-06-07</td>\n",
              "      <td>61.20</td>\n",
              "      <td>-2.63</td>\n",
              "      <td>-4.12</td>\n",
              "    </tr>\n",
              "    <tr>\n",
              "      <th>1</th>\n",
              "      <td>2019-06-14</td>\n",
              "      <td>59.90</td>\n",
              "      <td>-1.30</td>\n",
              "      <td>-2.12</td>\n",
              "    </tr>\n",
              "    <tr>\n",
              "      <th>2</th>\n",
              "      <td>2019-06-21</td>\n",
              "      <td>64.22</td>\n",
              "      <td>4.32</td>\n",
              "      <td>7.21</td>\n",
              "    </tr>\n",
              "    <tr>\n",
              "      <th>3</th>\n",
              "      <td>2019-06-28</td>\n",
              "      <td>64.88</td>\n",
              "      <td>0.66</td>\n",
              "      <td>1.03</td>\n",
              "    </tr>\n",
              "    <tr>\n",
              "      <th>4</th>\n",
              "      <td>2019-07-05</td>\n",
              "      <td>61.62</td>\n",
              "      <td>-3.26</td>\n",
              "      <td>-5.02</td>\n",
              "    </tr>\n",
              "    <tr>\n",
              "      <th>...</th>\n",
              "      <td>...</td>\n",
              "      <td>...</td>\n",
              "      <td>...</td>\n",
              "      <td>...</td>\n",
              "    </tr>\n",
              "    <tr>\n",
              "      <th>155</th>\n",
              "      <td>NaT</td>\n",
              "      <td>NaN</td>\n",
              "      <td>NaN</td>\n",
              "      <td>NaN</td>\n",
              "    </tr>\n",
              "    <tr>\n",
              "      <th>156</th>\n",
              "      <td>NaT</td>\n",
              "      <td>NaN</td>\n",
              "      <td>NaN</td>\n",
              "      <td>NaN</td>\n",
              "    </tr>\n",
              "    <tr>\n",
              "      <th>157</th>\n",
              "      <td>NaT</td>\n",
              "      <td>NaN</td>\n",
              "      <td>NaN</td>\n",
              "      <td>NaN</td>\n",
              "    </tr>\n",
              "    <tr>\n",
              "      <th>158</th>\n",
              "      <td>NaT</td>\n",
              "      <td>NaN</td>\n",
              "      <td>NaN</td>\n",
              "      <td>NaN</td>\n",
              "    </tr>\n",
              "    <tr>\n",
              "      <th>159</th>\n",
              "      <td>NaT</td>\n",
              "      <td>NaN</td>\n",
              "      <td>NaN</td>\n",
              "      <td>NaN</td>\n",
              "    </tr>\n",
              "  </tbody>\n",
              "</table>\n",
              "<p>160 rows × 4 columns</p>\n",
              "</div>\n",
              "      <button class=\"colab-df-convert\" onclick=\"convertToInteractive('df-db221991-e97a-45a7-98e6-09750fef63b3')\"\n",
              "              title=\"Convert this dataframe to an interactive table.\"\n",
              "              style=\"display:none;\">\n",
              "        \n",
              "  <svg xmlns=\"http://www.w3.org/2000/svg\" height=\"24px\"viewBox=\"0 0 24 24\"\n",
              "       width=\"24px\">\n",
              "    <path d=\"M0 0h24v24H0V0z\" fill=\"none\"/>\n",
              "    <path d=\"M18.56 5.44l.94 2.06.94-2.06 2.06-.94-2.06-.94-.94-2.06-.94 2.06-2.06.94zm-11 1L8.5 8.5l.94-2.06 2.06-.94-2.06-.94L8.5 2.5l-.94 2.06-2.06.94zm10 10l.94 2.06.94-2.06 2.06-.94-2.06-.94-.94-2.06-.94 2.06-2.06.94z\"/><path d=\"M17.41 7.96l-1.37-1.37c-.4-.4-.92-.59-1.43-.59-.52 0-1.04.2-1.43.59L10.3 9.45l-7.72 7.72c-.78.78-.78 2.05 0 2.83L4 21.41c.39.39.9.59 1.41.59.51 0 1.02-.2 1.41-.59l7.78-7.78 2.81-2.81c.8-.78.8-2.07 0-2.86zM5.41 20L4 18.59l7.72-7.72 1.47 1.35L5.41 20z\"/>\n",
              "  </svg>\n",
              "      </button>\n",
              "      \n",
              "  <style>\n",
              "    .colab-df-container {\n",
              "      display:flex;\n",
              "      flex-wrap:wrap;\n",
              "      gap: 12px;\n",
              "    }\n",
              "\n",
              "    .colab-df-convert {\n",
              "      background-color: #E8F0FE;\n",
              "      border: none;\n",
              "      border-radius: 50%;\n",
              "      cursor: pointer;\n",
              "      display: none;\n",
              "      fill: #1967D2;\n",
              "      height: 32px;\n",
              "      padding: 0 0 0 0;\n",
              "      width: 32px;\n",
              "    }\n",
              "\n",
              "    .colab-df-convert:hover {\n",
              "      background-color: #E2EBFA;\n",
              "      box-shadow: 0px 1px 2px rgba(60, 64, 67, 0.3), 0px 1px 3px 1px rgba(60, 64, 67, 0.15);\n",
              "      fill: #174EA6;\n",
              "    }\n",
              "\n",
              "    [theme=dark] .colab-df-convert {\n",
              "      background-color: #3B4455;\n",
              "      fill: #D2E3FC;\n",
              "    }\n",
              "\n",
              "    [theme=dark] .colab-df-convert:hover {\n",
              "      background-color: #434B5C;\n",
              "      box-shadow: 0px 1px 3px 1px rgba(0, 0, 0, 0.15);\n",
              "      filter: drop-shadow(0px 1px 2px rgba(0, 0, 0, 0.3));\n",
              "      fill: #FFFFFF;\n",
              "    }\n",
              "  </style>\n",
              "\n",
              "      <script>\n",
              "        const buttonEl =\n",
              "          document.querySelector('#df-db221991-e97a-45a7-98e6-09750fef63b3 button.colab-df-convert');\n",
              "        buttonEl.style.display =\n",
              "          google.colab.kernel.accessAllowed ? 'block' : 'none';\n",
              "\n",
              "        async function convertToInteractive(key) {\n",
              "          const element = document.querySelector('#df-db221991-e97a-45a7-98e6-09750fef63b3');\n",
              "          const dataTable =\n",
              "            await google.colab.kernel.invokeFunction('convertToInteractive',\n",
              "                                                     [key], {});\n",
              "          if (!dataTable) return;\n",
              "\n",
              "          const docLinkHtml = 'Like what you see? Visit the ' +\n",
              "            '<a target=\"_blank\" href=https://colab.research.google.com/notebooks/data_table.ipynb>data table notebook</a>'\n",
              "            + ' to learn more about interactive tables.';\n",
              "          element.innerHTML = '';\n",
              "          dataTable['output_type'] = 'display_data';\n",
              "          await google.colab.output.renderOutput(dataTable, element);\n",
              "          const docLink = document.createElement('div');\n",
              "          docLink.innerHTML = docLinkHtml;\n",
              "          element.appendChild(docLink);\n",
              "        }\n",
              "      </script>\n",
              "    </div>\n",
              "  </div>\n",
              "  "
            ]
          },
          "metadata": {},
          "execution_count": 128
        }
      ]
    },
    {
      "cell_type": "code",
      "source": [
        "plt.figure(figsize=(10,10))\n",
        "\n",
        "plt.subplots_adjust(hspace=0.5)\n",
        "\n",
        "plt.subplot(4,1,1)\n",
        "plt.title('oil', fontsize=20, loc='left', pad='-1')\n",
        "plt.plot(oil_re['date'], oil_re['price'])\n",
        "\n",
        "plt.subplot(4,1,2)\n",
        "plt.title('rock', fontsize=20, loc='left')\n",
        "plt.plot(rock['date'], rock['price'])\n",
        "\n",
        "plt.subplot(4,1,3)\n",
        "plt.title('iron', fontsize=20, loc='left')\n",
        "plt.plot(iron['date'], iron['price'])\n",
        "\n",
        "plt.subplot(4,1,4)\n",
        "plt.title('stock', fontsize=20, loc='left')\n",
        "plt.plot(stock['date'], stock[['daewoo','haatz', 'hdc', 'hyundai_di', 'livart', 'skd_d', 'avg']])"
      ],
      "metadata": {
        "colab": {
          "base_uri": "https://localhost:8080/",
          "height": 738
        },
        "id": "AwEqCpbBuX4n",
        "outputId": "7e856b50-f330-444b-dc83-8da1fed59107"
      },
      "execution_count": 151,
      "outputs": [
        {
          "output_type": "execute_result",
          "data": {
            "text/plain": [
              "[<matplotlib.lines.Line2D at 0x7efe1152d590>,\n",
              " <matplotlib.lines.Line2D at 0x7efe114e03d0>,\n",
              " <matplotlib.lines.Line2D at 0x7efe114e0590>,\n",
              " <matplotlib.lines.Line2D at 0x7efe114e0750>,\n",
              " <matplotlib.lines.Line2D at 0x7efe114e0910>,\n",
              " <matplotlib.lines.Line2D at 0x7efe114e0ad0>,\n",
              " <matplotlib.lines.Line2D at 0x7efe114e0d10>]"
            ]
          },
          "metadata": {},
          "execution_count": 151
        },
        {
          "output_type": "display_data",
          "data": {
            "text/plain": [
              "<Figure size 720x720 with 4 Axes>"
            ],
            "image/png": "[encoded data removed]"
          },
          "metadata": {
            "needs_background": "light"
          }
        }
      ]
    },
    {
      "cell_type": "code",
      "source": [
        "stock.columns"
      ],
      "metadata": {
        "colab": {
          "base_uri": "https://localhost:8080/"
        },
        "id": "iG7FiZTEp5E4",
        "outputId": "5a285f01-2693-4652-b8c3-149e125e6f3d"
      },
      "execution_count": 135,
      "outputs": [
        {
          "output_type": "execute_result",
          "data": {
            "text/plain": [
              "Index(['date', 'daewoo', 'haatz', 'hdc', 'hyundai_di', 'livart', 'skd_d',\n",
              "       'avg'],\n",
              "      dtype='object')"
            ]
          },
          "metadata": {},
          "execution_count": 135
        }
      ]
    },
    {
      "cell_type": "code",
      "source": [
        "stock_name_li = list(stock.columns.values)"
      ],
      "metadata": {
        "id": "RCfZf5gLp6Hj"
      },
      "execution_count": 162,
      "outputs": []
    },
    {
      "cell_type": "code",
      "source": [
        "stock_name_li.remove('date')"
      ],
      "metadata": {
        "id": "qfhENyUXqeoD"
      },
      "execution_count": 164,
      "outputs": []
    },
    {
      "cell_type": "code",
      "source": [
        "stock_name_li"
      ],
      "metadata": {
        "colab": {
          "base_uri": "https://localhost:8080/"
        },
        "id": "1RpIgmDuqqwF",
        "outputId": "0b536be9-0b08-4be0-a931-17a8987f8675"
      },
      "execution_count": 165,
      "outputs": [
        {
          "output_type": "execute_result",
          "data": {
            "text/plain": [
              "['daewoo', 'haatz', 'hdc', 'hyundai_di', 'livart', 'skd_d', 'avg']"
            ]
          },
          "metadata": {},
          "execution_count": 165
        }
      ]
    },
    {
      "cell_type": "markdown",
      "source": [
        "##스케일링"
      ],
      "metadata": {
        "id": "LN9MzJvG4rNe"
      }
    },
    {
      "cell_type": "code",
      "source": [
        "#시계열 데이터는 회귀형 데이터이므로 MinMaxScaler로 스케일링\n",
        "from sklearn.preprocessing import MinMaxScaler\n",
        "\n",
        "scaler = MinMaxScaler()\n",
        "\n",
        "temp_oil = oil_re[['price']]\n",
        "oil_m_scaler = pd.DataFrame(scaler.fit_transform(temp_oil))\n",
        "print(oil_m_scaler)"
      ],
      "metadata": {
        "colab": {
          "base_uri": "https://localhost:8080/"
        },
        "id": "gfYwbqIW4sZ_",
        "outputId": "45b277fe-d2c4-4942-dc2f-1113f1e0c50a"
      },
      "execution_count": 172,
      "outputs": [
        {
          "output_type": "stream",
          "name": "stdout",
          "text": [
            "            0\n",
            "0    0.427012\n",
            "1    0.414111\n",
            "2    0.456981\n",
            "3    0.463531\n",
            "4    0.431180\n",
            "..        ...\n",
            "155       NaN\n",
            "156       NaN\n",
            "157       NaN\n",
            "158       NaN\n",
            "159       NaN\n",
            "\n",
            "[160 rows x 1 columns]\n"
          ]
        }
      ]
    },
    {
      "cell_type": "code",
      "source": [
        "oil_re['price_m_scaler'] = oil_m_scaler"
      ],
      "metadata": {
        "id": "U2aI3uaH7zAN"
      },
      "execution_count": 173,
      "outputs": []
    },
    {
      "cell_type": "code",
      "source": [
        "temp_rock = rock[['price']]\n",
        "temp_iron = iron[['price']]\n",
        "rock_m_scaler = pd.DataFrame(scaler.fit_transform(temp_rock))\n",
        "iron_m_scaler = pd.DataFrame(scaler.fit_transform(temp_iron))"
      ],
      "metadata": {
        "id": "lB4mb88o7cjL"
      },
      "execution_count": 153,
      "outputs": []
    },
    {
      "cell_type": "code",
      "source": [
        "# for i in stock_name_li:\n",
        "#   temp_stock = stock[[i]]\n",
        "#   m_scaler = pd.DataFrame(scaler.fit_transform(temp_stock))\n",
        "#   x = i+'_price_m_scaler'\n",
        "#   i[x] = m_scaler\n",
        "\n",
        "# stock"
      ],
      "metadata": {
        "id": "0plELEi88T3H"
      },
      "execution_count": 169,
      "outputs": []
    },
    {
      "cell_type": "code",
      "source": [
        "rock['price_m_scaler'] = rock_m_scaler\n",
        "iron['price_m_scaler'] = iron_m_scaler"
      ],
      "metadata": {
        "id": "5y3WgG2V8E0q"
      },
      "execution_count": 155,
      "outputs": []
    },
    {
      "cell_type": "code",
      "source": [
        "temp_daewoo = stock[['daewoo']]\n",
        "temp_hdc = stock[['hdc']]\n",
        "temp_hyundai_di = stock[['hyundai_di']]\n",
        "temp_skd_d = stock[['skd_d']]\n",
        "temp_haatz = stock[['haatz']]\n",
        "temp_livart = stock[['livart']]\n",
        "temp_avg = stock[['avg']]\n",
        "\n",
        "stock['daewoo'] = pd.DataFrame(scaler.fit_transform(temp_daewoo))\n",
        "stock['hdc'] = pd.DataFrame(scaler.fit_transform(temp_hdc))\n",
        "stock['hyundai_di'] = pd.DataFrame(scaler.fit_transform(temp_hyundai_di))\n",
        "stock['skd_d'] = pd.DataFrame(scaler.fit_transform(temp_skd_d))\n",
        "stock['haatz'] = pd.DataFrame(scaler.fit_transform(temp_haatz))\n",
        "stock['livart'] = pd.DataFrame(scaler.fit_transform(temp_livart))\n",
        "stock['avg'] = pd.DataFrame(scaler.fit_transform(temp_avg))"
      ],
      "metadata": {
        "id": "Q-ZrtOcqA1jl"
      },
      "execution_count": 171,
      "outputs": []
    },
    {
      "cell_type": "code",
      "source": [
        "#스케일링된 값들 간의 plot\n",
        "\n",
        "plt.figure(figsize=(10,10))\n",
        "\n",
        "plt.subplots_adjust(hspace=0.5)\n",
        "\n",
        "plt.subplot(4,1,1)\n",
        "plt.title('oil', fontsize=20, loc='left', pad='-1')\n",
        "plt.plot(oil_re['date'], oil_re['price_m_scaler'])\n",
        "\n",
        "plt.subplot(4,1,2)\n",
        "plt.title('rock', fontsize=20, loc='left')\n",
        "plt.plot(rock['date'], rock['price_m_scaler'])\n",
        "\n",
        "plt.subplot(4,1,3)\n",
        "plt.title('iron', fontsize=20, loc='left')\n",
        "plt.plot(iron['date'], iron['price_m_scaler'])\n",
        "\n",
        "plt.subplot(4,1,4)\n",
        "plt.title('stock', fontsize=20, loc='left')\n",
        "plt.plot(stock['date'], stock[['daewoo','haatz', 'hdc', 'hyundai_di', 'livart', 'skd_d', 'avg']])"
      ],
      "metadata": {
        "colab": {
          "base_uri": "https://localhost:8080/",
          "height": 738
        },
        "id": "6ulVrqPj8Seq",
        "outputId": "92c45ecd-d7f5-455a-e76b-84c7221adaa2"
      },
      "execution_count": 174,
      "outputs": [
        {
          "output_type": "execute_result",
          "data": {
            "text/plain": [
              "[<matplotlib.lines.Line2D at 0x7efe05158d90>,\n",
              " <matplotlib.lines.Line2D at 0x7efe0510bc90>,\n",
              " <matplotlib.lines.Line2D at 0x7efe0510be50>,\n",
              " <matplotlib.lines.Line2D at 0x7efe0510bfd0>,\n",
              " <matplotlib.lines.Line2D at 0x7efe05115210>,\n",
              " <matplotlib.lines.Line2D at 0x7efe051153d0>,\n",
              " <matplotlib.lines.Line2D at 0x7efe05115610>]"
            ]
          },
          "metadata": {},
          "execution_count": 174
        },
        {
          "output_type": "display_data",
          "data": {
            "text/plain": [
              "<Figure size 720x720 with 4 Axes>"
            ],
            "image/png": "[encoded data removed]"
          },
          "metadata": {
            "needs_background": "light"
          }
        }
      ]
    },
    {
      "cell_type": "markdown",
      "source": [
        "##상관분석"
      ],
      "metadata": {
        "id": "lGNqP6es6uuU"
      }
    },
    {
      "cell_type": "markdown",
      "source": [
        ""
      ],
      "metadata": {
        "id": "pgALlGmbI6Aq"
      }
    },
    {
      "cell_type": "code",
      "source": [
        "'''\n",
        "상관 분석을 통해 도출되는 상관 계수도 여러 종류가 있다. 대표적으로 아래 4가지 상관계수가 있다. \n",
        "\n",
        "피어슨 상관계수(Pearson Correlation Coefficient)\n",
        "스피어만 상관계수(Spearman Correlation Coefficient)\n",
        "켄달 타우(Kendalltau, Kendall Rank Correlation Coefficient)\n",
        "크론바흐 알파 계수(Cronbach's alpha)\n",
        " \n",
        "\n",
        "이 중 피어슨 상관계수(Pearson Correlation Coefficient)만 간략히 살펴본다.\n",
        "\n",
        " \n",
        "\n",
        "피어슨 상관계수는 변수들 간 관련성을 구하는 이변량 상관분석(Bivariate Correlation Analysis)에서 주로 이용된다.\n",
        "'''"
      ],
      "metadata": {
        "id": "fgthBCeEJGKG"
      },
      "execution_count": null,
      "outputs": []
    },
    {
      "cell_type": "code",
      "source": [
        "'''\n",
        "결정계수(Coefficient of Determination)는 r2으로 계산하며 \n",
        "이는 X로부터 Y를 예측할 수 있는 정도를 의미한다. 결정계수는 \n",
        "추정한 선형 모형이 주어진 자료에 적합한 정도를 재는 척도이다.\n",
        "\n",
        "r이 -1.0과 -0.7 사이이면, 강한 음적 선형관계,\n",
        "r이 -0.7과 -0.3 사이이면, 뚜렷한 음적 선형관계,\n",
        "r이 -0.3과 -0.1 사이이면, 약한 음적 선형관계,\n",
        "r이 -0.1과 +0.1 사이이면, 거의 무시될 수 있는 선형관계,\n",
        "r이 +0.1과 +0.3 사이이면, 약한 양적 선형관계,\n",
        "r이 +0.3과 +0.7 사이이면, 뚜렷한 양적 선형관계,\n",
        "r이 +0.7과 +1.0 사이이면, 강한 양적 선형관계\n",
        " \n",
        "출처: 위키피디아\n",
        "'''"
      ],
      "metadata": {
        "id": "Xp0R-683I94m"
      },
      "execution_count": null,
      "outputs": []
    },
    {
      "cell_type": "code",
      "source": [
        "#피어슨 상관계수\n",
        "print('################################################')\n",
        "print('시공사 섹터')\n",
        "print('유가 & 대우건설 피어슨 계수')\n",
        "print(oil_re.corrwith(other=stock['daewoo'], method='pearson'))\n",
        "print('\\n')\n",
        "print('유연탄 & 대우건설 피어슨 계수')\n",
        "print(rock.corrwith(other=stock['daewoo'], method='pearson'))\n",
        "print('\\n')\n",
        "print('철광석 & 대우건설 피어슨 계수')\n",
        "print(iron.corrwith(other=stock['daewoo'], method='pearson'))\n",
        "print('################################################\\n')\n",
        "\n",
        "print('유가 & 현산 피어슨 계수')\n",
        "print(oil_re.corrwith(other=stock['hdc'], method='pearson'))\n",
        "print('\\n')\n",
        "print('유연탄 & 현산 피어슨 계수')\n",
        "print(rock.corrwith(other=stock['hdc'], method='pearson'))\n",
        "print('\\n')\n",
        "print('철광석 & 현산 피어슨 계수')\n",
        "print(iron.corrwith(other=stock['hdc'], method='pearson'))\n",
        "print('################################################\\n')\n",
        "print('################################################\\n')\n",
        "print('건설기계 섹터')\n",
        "print('유가 & 현대대우인프라코어 피어슨 계수')\n",
        "print(oil_re.corrwith(other=stock['hyundai_di'], method='pearson'))\n",
        "print('\\n')\n",
        "print('유연탄 & 현대대우인프라코어 피어슨 계수')\n",
        "print(rock.corrwith(other=stock['hyundai_di'], method='pearson'))\n",
        "print('\\n')\n",
        "print('철광석 & 현대대우인프라코어 피어슨 계수')\n",
        "print(iron.corrwith(other=stock['hyundai_di'], method='pearson'))\n",
        "print('################################################\\n')\n",
        "print('################################################\\n')\n",
        "print('시행사 섹터')\n",
        "print('유가 & 에스케어디앤디 피어슨 계수')\n",
        "print(oil_re.corrwith(other=stock['skd_d'], method='pearson'))\n",
        "print('\\n')\n",
        "print('유연탄 & 에스케어디앤디 피어슨 계수')\n",
        "print(rock.corrwith(other=stock['skd_d'], method='pearson'))\n",
        "print('\\n')\n",
        "print('철광석 & 에스케어디앤디 피어슨 계수')\n",
        "print(iron.corrwith(other=stock['skd_d'], method='pearson'))\n",
        "print('################################################\\n')\n",
        "print('################################################\\n')\n",
        "print('가전제품 섹터')\n",
        "print('유가 &  하츠 피어슨 계수')\n",
        "print(oil_re.corrwith(other=stock['haatz'], method='pearson'))\n",
        "print('\\n')\n",
        "print('유연탄 & 하츠 피어슨 계수')\n",
        "print(rock.corrwith(other=stock['haatz'], method='pearson'))\n",
        "print('\\n')\n",
        "print('철광석 & 하츠 피어슨 계수')\n",
        "print(iron.corrwith(other=stock['haatz'], method='pearson'))\n",
        "print('################################################\\n')\n",
        "print('유가 & 리바트 피어슨 계수')\n",
        "print(oil_re.corrwith(other=stock['livart'], method='pearson'))\n",
        "print('\\n')\n",
        "print('유연탄 & 리바트 피어슨 계수')\n",
        "print(rock.corrwith(other=stock['livart'], method='pearson'))\n",
        "print('\\n')\n",
        "print('철광석 & 리바트 피어슨 계수')\n",
        "print(iron.corrwith(other=stock['livart'], method='pearson'))\n",
        "print('################################################\\n')\n",
        "\n",
        "print('전체 평균주가')\n",
        "print('유가 & avg 피어슨 계수')\n",
        "print(oil_re.corrwith(other=stock['avg'], method='pearson'))\n",
        "print('\\n')\n",
        "print('유연탄 & avg 피어슨 계수')\n",
        "print(rock.corrwith(other=stock['avg'], method='pearson'))\n",
        "print('\\n')\n",
        "print('철광석 & avg 피어슨 계수')\n",
        "print(iron.corrwith(other=stock['avg'], method='pearson'))\n",
        "print('################################################')"
      ],
      "metadata": {
        "colab": {
          "base_uri": "https://localhost:8080/"
        },
        "id": "3gTZHeUN6v5J",
        "outputId": "bcc423c7-3361-41a7-a29d-80868d551a03"
      },
      "execution_count": 184,
      "outputs": [
        {
          "output_type": "stream",
          "name": "stdout",
          "text": [
            "################################################\n",
            "시공사 섹터\n",
            "유가 & 대우건설 피어슨 계수\n",
            "price             0.265343\n",
            "delta             0.041250\n",
            "delta_ratio       0.037469\n",
            "price_m_scaler    0.265343\n",
            "dtype: float64\n",
            "\n",
            "\n",
            "유연탄 & 대우건설 피어슨 계수\n",
            "price            -0.461091\n",
            "delta             0.487963\n",
            "delta_ratio       0.490375\n",
            "price_m_scaler   -0.461091\n",
            "dtype: float64\n",
            "\n",
            "\n",
            "철광석 & 대우건설 피어슨 계수\n",
            "price            -0.482278\n",
            "delta             0.093444\n",
            "delta_ratio       0.068875\n",
            "price_m_scaler   -0.482278\n",
            "dtype: float64\n",
            "################################################\n",
            "\n",
            "유가 & 현산 피어슨 계수\n",
            "price            -0.420326\n",
            "delta             0.104897\n",
            "delta_ratio       0.105933\n",
            "price_m_scaler   -0.420326\n",
            "dtype: float64\n",
            "\n",
            "\n",
            "유연탄 & 현산 피어슨 계수\n",
            "price             0.101370\n",
            "delta             0.064454\n",
            "delta_ratio       0.068992\n",
            "price_m_scaler    0.101370\n",
            "dtype: float64\n",
            "\n",
            "\n",
            "철광석 & 현산 피어슨 계수\n",
            "price            -0.212556\n",
            "delta             0.056209\n",
            "delta_ratio       0.033546\n",
            "price_m_scaler   -0.212556\n",
            "dtype: float64\n",
            "################################################\n",
            "\n",
            "################################################\n",
            "\n",
            "건설기계 섹터\n",
            "유가 & 현대대우인프라코어 피어슨 계수\n",
            "price            -0.320666\n",
            "delta             0.116976\n",
            "delta_ratio       0.111954\n",
            "price_m_scaler   -0.320666\n",
            "dtype: float64\n",
            "\n",
            "\n",
            "유연탄 & 현대대우인프라코어 피어슨 계수\n",
            "price            -0.567292\n",
            "delta             0.278182\n",
            "delta_ratio       0.270965\n",
            "price_m_scaler   -0.567292\n",
            "dtype: float64\n",
            "\n",
            "\n",
            "철광석 & 현대대우인프라코어 피어슨 계수\n",
            "price            -0.737569\n",
            "delta            -0.054684\n",
            "delta_ratio      -0.069251\n",
            "price_m_scaler   -0.737569\n",
            "dtype: float64\n",
            "################################################\n",
            "\n",
            "################################################\n",
            "\n",
            "시행사 섹터\n",
            "유가 & 에스케어디앤디 피어슨 계수\n",
            "price            -0.408675\n",
            "delta             0.141277\n",
            "delta_ratio       0.142442\n",
            "price_m_scaler   -0.408675\n",
            "dtype: float64\n",
            "\n",
            "\n",
            "유연탄 & 에스케어디앤디 피어슨 계수\n",
            "price            -0.558077\n",
            "delta             0.291489\n",
            "delta_ratio       0.276611\n",
            "price_m_scaler   -0.558077\n",
            "dtype: float64\n",
            "\n",
            "\n",
            "철광석 & 에스케어디앤디 피어슨 계수\n",
            "price            -0.593368\n",
            "delta             0.117762\n",
            "delta_ratio       0.115360\n",
            "price_m_scaler   -0.593368\n",
            "dtype: float64\n",
            "################################################\n",
            "\n",
            "################################################\n",
            "\n",
            "가전제품 섹터\n",
            "유가 &  하츠 피어슨 계수\n",
            "price             0.091176\n",
            "delta             0.104271\n",
            "delta_ratio       0.098894\n",
            "price_m_scaler    0.091176\n",
            "dtype: float64\n",
            "\n",
            "\n",
            "유연탄 & 하츠 피어슨 계수\n",
            "price            -0.580001\n",
            "delta             0.488756\n",
            "delta_ratio       0.487634\n",
            "price_m_scaler   -0.580001\n",
            "dtype: float64\n",
            "\n",
            "\n",
            "철광석 & 하츠 피어슨 계수\n",
            "price            -0.583092\n",
            "delta             0.069000\n",
            "delta_ratio       0.046567\n",
            "price_m_scaler   -0.583092\n",
            "dtype: float64\n",
            "################################################\n",
            "\n",
            "유가 & 리바트 피어슨 계수\n",
            "price            -0.426113\n",
            "delta             0.036516\n",
            "delta_ratio       0.028965\n",
            "price_m_scaler   -0.426113\n",
            "dtype: float64\n",
            "\n",
            "\n",
            "유연탄 & 리바트 피어슨 계수\n",
            "price            -0.629392\n",
            "delta             0.176397\n",
            "delta_ratio       0.168041\n",
            "price_m_scaler   -0.629392\n",
            "dtype: float64\n",
            "\n",
            "\n",
            "철광석 & 리바트 피어슨 계수\n",
            "price            -0.80230\n",
            "delta            -0.16338\n",
            "delta_ratio      -0.17994\n",
            "price_m_scaler   -0.80230\n",
            "dtype: float64\n",
            "################################################\n",
            "\n",
            "전체 평균주가\n",
            "유가 & avg 피어슨 계수\n",
            "price            -0.395894\n",
            "delta             0.134535\n",
            "delta_ratio       0.132115\n",
            "price_m_scaler   -0.395894\n",
            "dtype: float64\n",
            "\n",
            "\n",
            "유연탄 & avg 피어슨 계수\n",
            "price            -0.502764\n",
            "delta             0.321126\n",
            "delta_ratio       0.314419\n",
            "price_m_scaler   -0.502764\n",
            "dtype: float64\n",
            "\n",
            "\n",
            "철광석 & avg 피어슨 계수\n",
            "price            -0.688278\n",
            "delta             0.044258\n",
            "delta_ratio       0.024833\n",
            "price_m_scaler   -0.688278\n",
            "dtype: float64\n",
            "################################################\n"
          ]
        }
      ]
    },
    {
      "cell_type": "code",
      "source": [
        ""
      ],
      "metadata": {
        "id": "1i8IbbSdDPPN"
      },
      "execution_count": 183,
      "outputs": []
    },
    {
      "cell_type": "code",
      "source": [
        ""
      ],
      "metadata": {
        "id": "S_T2A4xRKDJq"
      },
      "execution_count": null,
      "outputs": []
    }
  ]
}